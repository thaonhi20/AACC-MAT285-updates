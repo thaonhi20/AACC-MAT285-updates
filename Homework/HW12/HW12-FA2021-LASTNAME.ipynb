{
 "cells": [
  {
   "cell_type": "markdown",
   "metadata": {},
   "source": [
    "# Homework 12: Classification"
   ]
  },
  {
   "cell_type": "markdown",
   "metadata": {},
   "source": [
    "**Reading**: \n",
    "\n",
    "* [Classification](https://inferentialthinking.com/chapters/17/Classification.html)\n",
    "\n",
    "\n",
    "\n",
    "Testing Hypotheses\n",
    "\n",
    "This is the **last** of 12 homework assignments you'll complete in this course. The homework assignments provide you with more opportunity to practice the skills we've learned in lecture. This homework might include materials covered from the beginning of the course up to and including 12.2. This homework assignment is due by **11:59pm, December 9, 2021**.\n",
    "\n",
    "Start early so that you can ask for assistance if you're stuck. If you remain stuck on a question, please reach out to me, or post your questions on the course Question Board in Canvas. Feel free to start a new thread for your question, or check there to see if someone else has done so already. I encourage everyone to participate by offering their own explanations, and I'll do the same. But be sure to refrain from directly posting or sharing answers. It's important for everyone to arrive at their own answers.\n",
    "\n",
    "For all problems that you must write out explanations and sentences for, you must provide your answer in the designated space. Moreover, throughout this homework and all future ones, please be sure to not re-assign variables throughout the notebook! For example, if you use max_temperature in your anbswer to one question, do not reassign it later on. Moreover, please be sure to only put your written answers in the cells provided.\n",
    "\n",
    "You will submit this assignment by uploading your completed Jupyter notebook to Canvas. All files will have a LASTNAME as part of their name. So before you continue, rename your file so that your last name replaces LASTNAME. Type your last name in ALL CAPS. For example, this downloaded file has the name\n",
    "HW12-FA2021-LASTNAME.ipynb\n",
    "\n",
    "If your last name is Peralta, change the file name to\n",
    "HW12-FA2021-PERALTA.ipynb\n",
    "\n",
    "Next, fill in the cell below with your student ID number replacing the ... Your cell should look like: IDs = [3141593]. Then click the \"run cell\" button at the top that looks like ▶| or hold down shift + return.\n",
    "Please use the passcode basis for my office hours on Mondays and Wednesdays,10am-12pm and 8:45pm-9:45pm.\n"
   ]
  },
  {
   "cell_type": "code",
   "execution_count": 2,
   "metadata": {},
   "outputs": [],
   "source": [
    "# Don't change this cell; just run it. \n",
    "\n",
    "import numpy as np\n",
    "from datascience import *\n",
    "\n",
    "# These lines do some fancy plotting magic.\n",
    "import matplotlib\n",
    "%matplotlib inline\n",
    "import matplotlib.pyplot as plt\n",
    "plt.style.use('fivethirtyeight')\n",
    "import warnings\n",
    "warnings.simplefilter('ignore', FutureWarning)\n"
   ]
  },
  {
   "cell_type": "code",
   "execution_count": null,
   "metadata": {
    "tags": [
     "_IDs"
    ]
   },
   "outputs": [],
   "source": [
    "global IDs # leave this line alone\n",
    "IDs = [...] # replace ... with your student ID number"
   ]
  },
  {
   "cell_type": "markdown",
   "metadata": {},
   "source": [
    "## Iris classification\n"
   ]
  },
  {
   "cell_type": "markdown",
   "metadata": {},
   "source": [
    "To practice k-nearest neighbor classification, we will work with a popular set of data of Iris Flowers, often known as Fisher's Iris data set (this copy was obtained from [Kaggle.com](https://www.kaggle.com/)).\n",
    " \n",
    " The original data set, loaded below as `iris.csv`, consists of 150 irises, all of 3 varieties: *Iris-setosa*, *iris-versicolor* or *iris-virginica*. To simplify the problem, we will classify with only two varieties.  In the cell below, we eliminate the first variety (*iris-setosa*).  We will predict which of the two remaining varieties an iris belongs to by using k-nearest neighbor classification and the numerical variables `SepalLengthCm` and `PetalLengthCm`.  \n",
    "\n"
   ]
  },
  {
   "cell_type": "code",
   "execution_count": 70,
   "metadata": {},
   "outputs": [
    {
     "data": {
      "text/html": [
       "<table border=\"1\" class=\"dataframe\">\n",
       "    <thead>\n",
       "        <tr>\n",
       "            <th>SepalLengthCm</th> <th>PetalLengthCm</th> <th>Species</th>\n",
       "        </tr>\n",
       "    </thead>\n",
       "    <tbody>\n",
       "        <tr>\n",
       "            <td>7            </td> <td>4.7          </td> <td>Iris-versicolor</td>\n",
       "        </tr>\n",
       "        <tr>\n",
       "            <td>6.4          </td> <td>4.5          </td> <td>Iris-versicolor</td>\n",
       "        </tr>\n",
       "        <tr>\n",
       "            <td>6.9          </td> <td>4.9          </td> <td>Iris-versicolor</td>\n",
       "        </tr>\n",
       "        <tr>\n",
       "            <td>5.5          </td> <td>4            </td> <td>Iris-versicolor</td>\n",
       "        </tr>\n",
       "        <tr>\n",
       "            <td>6.5          </td> <td>4.6          </td> <td>Iris-versicolor</td>\n",
       "        </tr>\n",
       "        <tr>\n",
       "            <td>5.7          </td> <td>4.5          </td> <td>Iris-versicolor</td>\n",
       "        </tr>\n",
       "        <tr>\n",
       "            <td>6.3          </td> <td>4.7          </td> <td>Iris-versicolor</td>\n",
       "        </tr>\n",
       "        <tr>\n",
       "            <td>4.9          </td> <td>3.3          </td> <td>Iris-versicolor</td>\n",
       "        </tr>\n",
       "        <tr>\n",
       "            <td>6.6          </td> <td>4.6          </td> <td>Iris-versicolor</td>\n",
       "        </tr>\n",
       "        <tr>\n",
       "            <td>5.2          </td> <td>3.9          </td> <td>Iris-versicolor</td>\n",
       "        </tr>\n",
       "    </tbody>\n",
       "</table>\n",
       "<p>... (90 rows omitted)</p>"
      ],
      "text/plain": [
       "SepalLengthCm | PetalLengthCm | Species\n",
       "7             | 4.7           | Iris-versicolor\n",
       "6.4           | 4.5           | Iris-versicolor\n",
       "6.9           | 4.9           | Iris-versicolor\n",
       "5.5           | 4             | Iris-versicolor\n",
       "6.5           | 4.6           | Iris-versicolor\n",
       "5.7           | 4.5           | Iris-versicolor\n",
       "6.3           | 4.7           | Iris-versicolor\n",
       "4.9           | 3.3           | Iris-versicolor\n",
       "6.6           | 4.6           | Iris-versicolor\n",
       "5.2           | 3.9           | Iris-versicolor\n",
       "... (90 rows omitted)"
      ]
     },
     "execution_count": 70,
     "metadata": {},
     "output_type": "execute_result"
    }
   ],
   "source": [
    "iris_full= Table.read_table(\"iris.csv\")\n",
    "iris=iris_full.where('Species', are.not_equal_to('Iris-setosa'))\n",
    "iris=iris.select(1,3,5)\n",
    "iris"
   ]
  },
  {
   "cell_type": "markdown",
   "metadata": {},
   "source": [
    "As usual, let's investigate our data visually before performing any kind of numerical analysis."
   ]
  },
  {
   "cell_type": "code",
   "execution_count": 74,
   "metadata": {},
   "outputs": [
    {
     "data": {
      "image/png": "[encoded data removed]",
      "text/plain": [
       "<Figure size 360x360 with 1 Axes>"
      ]
     },
     "metadata": {},
     "output_type": "display_data"
    }
   ],
   "source": [
    "# Just run this cell!\n",
    "iris.scatter(\"SepalLengthCm\", \"PetalLengthCm\", group=\"Species\")"
   ]
  },
  {
   "cell_type": "markdown",
   "metadata": {},
   "source": [
    "#### Question 1\n",
    "\n",
    "Let's begin implementing the k-Nearest Neighbors algorithm. Define the `distance` function, which takes in two arguments: an array of numerical features, and a different array of numerical features. The function should return the [Euclidean distance](https://en.wikipedia.org/wiki/Euclidean_distance) between the two arrays. Euclidean distance is often referred to as the straight-line distance formula that you may have learned previously.\n",
    "\n",
    "\n",
    "<!--\n",
    "BEGIN QUESTION\n",
    "name: q1_1\n",
    "manual: false\n",
    "-->"
   ]
  },
  {
   "cell_type": "code",
   "execution_count": 67,
   "metadata": {
    "tags": [
     "q1",
     "_track:distance"
    ]
   },
   "outputs": [
    {
     "data": {
      "text/plain": [
       "9.0"
      ]
     },
     "execution_count": 67,
     "metadata": {},
     "output_type": "execute_result"
    }
   ],
   "source": [
    "def distance(arr1, arr2):\n",
    "    return np.sqrt(...)\n",
    "\n",
    "# Don't change/delete the code below in this cell\n",
    "distance_example = distance(make_array(1, 2, 3), make_array(4, 5, 6))\n",
    "distance_example"
   ]
  },
  {
   "cell_type": "markdown",
   "metadata": {},
   "source": [
    "### Splitting the dataset\n",
    "We'll do 2 different kinds of things with the `iris` dataset:\n",
    "1. We'll build a classifier using coordinates for which we know the associated label; this will teach it to recognize labels of similar coordinate values. This process is known as *training*.\n",
    "2. We'll evaluate or *test* the accuracy of the classifier we build on data we haven't seen before.\n",
    "\n",
    "For reasons discussed in the textbook, we want to use separate datasets for these two purposes.  So we split up our one dataset into two."
   ]
  },
  {
   "cell_type": "markdown",
   "metadata": {},
   "source": [
    "#### Question 2\n",
    "\n",
    "Next, let's split our dataset into a training set and a test set. Since `iris` has $100$ rows, let's create a training set with the first 75 rows and a test set with the remaining 25 rows. Remember that assignment to each group should be random, so we should shuffle the table first.\n",
    "\n",
    "*Hint: as a first step we should shuffle all the rows, then use the* `tbl.take` *function to split up the rows for each table*\n"
   ]
  },
  {
   "cell_type": "code",
   "execution_count": 11,
   "metadata": {
    "tags": [
     "q2"
    ]
   },
   "outputs": [
    {
     "ename": "AttributeError",
     "evalue": "'ellipsis' object has no attribute 'num_rows'",
     "output_type": "error",
     "traceback": [
      "\u001b[0;31m---------------------------------------------------------------------------\u001b[0m",
      "\u001b[0;31mAttributeError\u001b[0m                            Traceback (most recent call last)",
      "\u001b[0;32m<ipython-input-11-11f3e390fce6>\u001b[0m in \u001b[0;36m<module>\u001b[0;34m\u001b[0m\n\u001b[1;32m      3\u001b[0m \u001b[0mtest\u001b[0m \u001b[0;34m=\u001b[0m \u001b[0;34m...\u001b[0m\u001b[0;34m\u001b[0m\u001b[0;34m\u001b[0m\u001b[0m\n\u001b[1;32m      4\u001b[0m \u001b[0;34m\u001b[0m\u001b[0m\n\u001b[0;32m----> 5\u001b[0;31m \u001b[0mprint\u001b[0m\u001b[0;34m(\u001b[0m\u001b[0;34m\"Training set:\\t\"\u001b[0m\u001b[0;34m,\u001b[0m   \u001b[0mtrain\u001b[0m\u001b[0;34m.\u001b[0m\u001b[0mnum_rows\u001b[0m\u001b[0;34m,\u001b[0m \u001b[0;34m\"examples\"\u001b[0m\u001b[0;34m)\u001b[0m\u001b[0;34m\u001b[0m\u001b[0;34m\u001b[0m\u001b[0m\n\u001b[0m\u001b[1;32m      6\u001b[0m \u001b[0mprint\u001b[0m\u001b[0;34m(\u001b[0m\u001b[0;34m\"Test set:\\t\"\u001b[0m\u001b[0;34m,\u001b[0m       \u001b[0mtest\u001b[0m\u001b[0;34m.\u001b[0m\u001b[0mnum_rows\u001b[0m\u001b[0;34m,\u001b[0m \u001b[0;34m\"examples\"\u001b[0m\u001b[0;34m)\u001b[0m\u001b[0;34m\u001b[0m\u001b[0;34m\u001b[0m\u001b[0m\n\u001b[1;32m      7\u001b[0m \u001b[0mtrain\u001b[0m\u001b[0;34m.\u001b[0m\u001b[0mshow\u001b[0m\u001b[0;34m(\u001b[0m\u001b[0;36m5\u001b[0m\u001b[0;34m)\u001b[0m\u001b[0;34m,\u001b[0m \u001b[0mtest\u001b[0m\u001b[0;34m.\u001b[0m\u001b[0mshow\u001b[0m\u001b[0;34m(\u001b[0m\u001b[0;36m5\u001b[0m\u001b[0;34m)\u001b[0m\u001b[0;34m;\u001b[0m\u001b[0;34m\u001b[0m\u001b[0;34m\u001b[0m\u001b[0m\n",
      "\u001b[0;31mAttributeError\u001b[0m: 'ellipsis' object has no attribute 'num_rows'"
     ]
    }
   ],
   "source": [
    "shuffled_table = iris.sample(...)\n",
    "train = shuffled_table.take(...)\n",
    "test = ...\n",
    "\n",
    "print(\"Training set:\\t\",   train.num_rows, \"examples\")\n",
    "print(\"Test set:\\t\",       test.num_rows, \"examples\")\n",
    "train.show(5), test.show(5);"
   ]
  },
  {
   "cell_type": "markdown",
   "metadata": {},
   "source": [
    "#### Question 3\n",
    "\n",
    "Assign `features` to an array of the labels of the features from the `iris` table.\n",
    "\n",
    "*Hint: which of the column labels in the `iris` table are the features, and which of the column labels correspond to the class we're trying to predict?*\n"
   ]
  },
  {
   "cell_type": "code",
   "execution_count": 13,
   "metadata": {
    "tags": [
     "q3",
     "_track:features"
    ]
   },
   "outputs": [
    {
     "data": {
      "text/plain": [
       "Ellipsis"
      ]
     },
     "execution_count": 13,
     "metadata": {},
     "output_type": "execute_result"
    }
   ],
   "source": [
    "features = ...\n",
    "features"
   ]
  },
  {
   "cell_type": "markdown",
   "metadata": {},
   "source": [
    "#### Question 4\n",
    "\n",
    "Now define the `classify` function. This function should take in a `row` from a table like `test` and classify it based on the data in `train` using the `k`-Nearest Neighbors based on the correct `features`.\n",
    "\n",
    "*Hint: use the `row_to_array` function we defined for you below to convert rows to arrays of features so that you can use the `distance` function you defined earlier.*\n",
    "\n",
    "*Hint 2: the code we provided iterates through each row in the training set.*\n"
   ]
  },
  {
   "cell_type": "code",
   "execution_count": null,
   "metadata": {
    "tags": [
     "q4",
     "_track:classify"
    ]
   },
   "outputs": [],
   "source": [
    "def row_to_array(row, features):\n",
    "    arr = make_array()\n",
    "    for feature in features:\n",
    "        arr = np.append(arr, row.item(feature))\n",
    "    return arr\n",
    "\n",
    "def classify(row, k, train):\n",
    "    test_row_features_array = row_to_array(row, features)\n",
    "    distances = make_array()\n",
    "    for train_row in train.rows:\n",
    "        train_row_features_array = row_to_array(..., ...)\n",
    "        row_distance = distance(test_row_features_array, ...)\n",
    "        distances = np.append(distances, ...)\n",
    "    train_with_distances = train.with_column('Distances', ...)\n",
    "    nearest_neighbors = train_with_distances.sort(...).take(np.arange(...))\n",
    "    most_common_label = nearest_neighbors.group('Species').sort(..., ...).column(...).item(0)\n",
    "    return most_common_label\n",
    "\n",
    "# Don't modify/delete the code below\n",
    "first_test = classify(test.row(0), 5, train)\n",
    "first_test"
   ]
  },
  {
   "cell_type": "markdown",
   "metadata": {},
   "source": [
    "\n",
    "\n",
    "#### Question 5\n",
    "\n",
    "Define the function `three_classify` that takes a `row` from `test` as an argument and classifies the row based on using 3-Nearest Neighbors. Use this function to find the `accuracy` of a 3-NN classifier on the `test` set. `accuracy` should be a proportion (not a percentage) of the irises that were correctly predicted.\n",
    "\n",
    "*Hint: you should be using a function you just created!*\n"
   ]
  },
  {
   "cell_type": "code",
   "execution_count": null,
   "metadata": {
    "manual_grade": true,
    "manual_problem_id": "sign_lang_3",
    "tags": [
     "q5"
    ]
   },
   "outputs": [],
   "source": [
    "def three_classify(row):\n",
    "    return classify(..., ..., ...)\n",
    "\n",
    "test_with_prediction = test.with_column(\"prediction\", test.apply(three_classify))\n",
    "labels_correct = test_with_prediction.column(...)==test_with_prediction.column(...)\n",
    "accuracy = np.count_nonzero(...)/...\n",
    "accuracy"
   ]
  },
  {
   "cell_type": "markdown",
   "metadata": {},
   "source": [
    "#### Question 6\n",
    "\n",
    "Why do we divide our data into a training and test set? Should we use our test set to find the best possible number of neighbors for a k-NN classifer? What is the point of a test set, and why do we only want to use the test set once? Explain. \n"
   ]
  },
  {
   "cell_type": "markdown",
   "metadata": {
    "tags": [
     "q6"
    ]
   },
   "source": [
    "*Write your answer here, replacing this text.*"
   ]
  },
  {
   "cell_type": "markdown",
   "metadata": {},
   "source": [
    "#### Question 7\n",
    "\n",
    "Why do we use an odd-numbered `k` in k-NN? Explain.\n",
    "\n"
   ]
  },
  {
   "cell_type": "markdown",
   "metadata": {
    "tags": [
     "q7"
    ]
   },
   "source": [
    "*Write your answer here, replacing this text.*"
   ]
  },
  {
   "cell_type": "markdown",
   "metadata": {},
   "source": [
    "Our classifier can classify rows as belonging to one of two classes (or types of iris).\n",
    "\n",
    "Congratulations - you're done with our last homework assignment!  Classification is one of the most important fields in statistics, data science, and machine learning. There are thousands of different classification algorithms and modifications of algorithms! There are many that you'll learn if you continue down the path of becoming a data scientist!"
   ]
  },
  {
   "cell_type": "code",
   "execution_count": null,
   "metadata": {},
   "outputs": [],
   "source": []
  }
 ],
 "metadata": {
  "kernelspec": {
   "display_name": "Python 3",
   "language": "python",
   "name": "python3"
  },
  "language_info": {
   "codemirror_mode": {
    "name": "ipython",
    "version": 3
   },
   "file_extension": ".py",
   "mimetype": "text/x-python",
   "name": "python",
   "nbconvert_exporter": "python",
   "pygments_lexer": "ipython3",
   "version": "3.7.6"
  }
 },
 "nbformat": 4,
 "nbformat_minor": 1
}
