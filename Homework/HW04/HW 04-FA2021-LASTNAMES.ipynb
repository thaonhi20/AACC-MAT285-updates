{
 "cells": [
  {
   "cell_type": "markdown",
   "metadata": {},
   "source": [
    "# Homework 4: Functions, Histograms, and Groups"
   ]
  },
  {
   "cell_type": "markdown",
   "metadata": {},
   "source": [
    "**Reading**: \n",
    "\n",
    "* [Visualizing Numerical Distributions](https://inferentialthinking.com/chapters/07/2/Visualizing_Numerical_Distributions.html) \n",
    "* [Functions and Tables](https://inferentialthinking.com/chapters/08/Functions_and_Tables.html)\n",
    "\n",
    "\n",
    "This is the **fourth** of 12 homework assignments you'll complete in this course.  The homework assignments provide you with more opportunity to practice the skills we've learned in lecture. You should complete Lab 4 before you begin this homework assignment.  This homework assignment is due by **11:59pm, September 27, 2021**. \n",
    "\n",
    "Start early so that you can ask for assistance if you're stuck. If you remain stuck on a question, please reach out to me, or post your questions on the course Question Board in Canvas. Feel free to start a new thread for your question, or check there to see if someone else has done so already. I encourage everyone to participate by offering their own explanations, and I'll do the same. But be sure to refrain from directly posting or sharing answers. It's important for everyone to arrive at their own answers.\n",
    "\n",
    "For all problems that you must write out explanations and sentences for, you **must** provide your answer in the designated space.  Moreover, throughout this homework and all future ones, please be sure to not re-assign variables throughout the notebook!  For example, if you use `max_temperature` in your anbswer to one question, do not reassign it later on. Moreover, please be sure to only put your written answers in the cells provided. \n",
    "\n",
    "You will submit this assignment by uploading your completed Jupyter notebook to Canvas.  All files will have a LASTNAME as part of their name.  So before you continue, rename your file so that your last name replaces LASTNAME.  Type your last name in ALL CAPS.  For example, this downloaded file has the name \n",
    "\n",
    "`HW 01-FA2021-LASTNAME.ipynb`\n",
    "\n",
    "If your last name is Peralta, change the file name to \n",
    "\n",
    "`HW 01-FA2021-PERALTA.ipynb`\n",
    " \n",
    "\n",
    "Next, fill in the cell below with your student ID number replacing the `...`  Your cell should look like: `IDs = [3141593]`.   Then click the \"run cell\" button at the top that looks like ▶| or hold down `shift` + `return`.\n",
    "\n",
    "Please use the passcode **basis** for my [office hours](https://aacc-edu.zoom.us/j/92542256939?pwd=cGsveTlHdW9EWGVDUTJuT0dHc0pjdz09) on Mondays and Wednesdays,10am-12pm and 8:45pm-9:45pm.  \n"
   ]
  },
  {
   "cell_type": "code",
   "execution_count": 4,
   "metadata": {
    "tags": [
     "IDs"
    ]
   },
   "outputs": [],
   "source": [
    "global IDs \n",
    "IDs = [...]  #replace ... with your student ID number"
   ]
  },
  {
   "cell_type": "code",
   "execution_count": 2,
   "metadata": {},
   "outputs": [],
   "source": [
    "# Don't change this cell; just run it. \n",
    "\n",
    "import numpy as np\n",
    "from datascience import *\n",
    "\n",
    "# These lines do some fancy plotting magic.\\n\",\n",
    "import matplotlib\n",
    "%matplotlib inline\n",
    "import matplotlib.pyplot as plt\n",
    "plt.style.use('fivethirtyeight')"
   ]
  },
  {
   "cell_type": "markdown",
   "metadata": {},
   "source": [
    "## Burrito-ful San Diego"
   ]
  },
  {
   "cell_type": "markdown",
   "metadata": {},
   "source": [
    "Tam, Margaret and Winifred are trying to use Data Science to find the best burritos in San Diego! Their friends Irene and Maya provided them with two comprehensive datasets on many burrito establishments in the San Diego area taken from (and cleaned from): https://www.kaggle.com/srcole/burritos-in-san-diego/data"
   ]
  },
  {
   "cell_type": "markdown",
   "metadata": {},
   "source": [
    "The following cell reads in a table called `ratings` which contains names of burrito restaurants, their Yelp rating, Google rating, as well as their Overall rating. It also reads in a table called `burritos_types` which contains names of burrito restaurants, their menu items, and the cost of the respective menu item at the restaurant."
   ]
  },
  {
   "cell_type": "code",
   "execution_count": null,
   "metadata": {
    "tags": [
     "_track:burritos_types"
    ]
   },
   "outputs": [],
   "source": [
    "#Just run this cell\n",
    "ratings = Table.read_table(\"ratings.csv\")\n",
    "ratings.show(5)\n",
    "burritos_types = Table.read_table(\"burritos_types.csv\")\n",
    "burritos_types.show(5)"
   ]
  },
  {
   "cell_type": "markdown",
   "metadata": {
    "deletable": false,
    "editable": false
   },
   "source": [
    "**Question 1. (1 pt)** It would be easier if we could combine the information in both tables. Assign `burritos` to the result of joining the two tables together by the `Name` column.\n",
    "\n",
    "*Hint: Use the `.join` method.  It doesn't matter which table you put in as the argument to the table method, either order will work.*\n"
   ]
  },
  {
   "cell_type": "code",
   "execution_count": 5,
   "metadata": {
    "deletable": false,
    "tags": [
     "q1"
    ]
   },
   "outputs": [
    {
     "data": {
      "text/plain": [
       "Ellipsis"
      ]
     },
     "execution_count": 5,
     "metadata": {},
     "output_type": "execute_result"
    }
   ],
   "source": [
    "burritos = ...\n",
    "burritos"
   ]
  },
  {
   "cell_type": "markdown",
   "metadata": {
    "deletable": false
   },
   "source": [
    "**Question 2. (2 pts)** Let's look at how the Yelp scores compare to the Google scores in the `burritos` table. First, assign `yelp_and_google` to a table only containing the columns `Yelp` and `Google`. Then, make a scatter plot with Yelp scores on the x-axis and the Google scores on the y-axis. \n",
    "\n",
    "*Hint: Use the `.select` method to make the `yelp_and_google` table, then use the `.scatter` method on this table.* \n"
   ]
  },
  {
   "cell_type": "code",
   "execution_count": 7,
   "metadata": {
    "deletable": false,
    "tags": [
     "q2"
    ]
   },
   "outputs": [
    {
     "data": {
      "image/png": "[encoded data removed]",
      "text/plain": [
       "<Figure size 432x288 with 1 Axes>"
      ]
     },
     "metadata": {},
     "output_type": "display_data"
    }
   ],
   "source": [
    "yelp_and_google = ...\n",
    "...\n",
    "# Don't change/edit/remove the following line.\n",
    "# To help you make conclusions, we have plotted a straight line on the graph (y=x)\n",
    "plt.plot(np.arange(2.5,5,.5), np.arange(2.5,5,.5));"
   ]
  },
  {
   "cell_type": "markdown",
   "metadata": {},
   "source": [
    "**Question 3. (2 pts)** Looking at the scatter plot you just made in Question 1.2, do you notice any pattern(s) (i.e. is one of the two types of scores consistently higher than the other one)? If so, describe them **briefly** in the cell below."
   ]
  },
  {
   "cell_type": "markdown",
   "metadata": {
    "tags": [
     "q3"
    ]
   },
   "source": [
    "*Write your answer here, replacing this text.*"
   ]
  },
  {
   "cell_type": "markdown",
   "metadata": {},
   "source": [
    "For a refresher on how `.group` works, read the [textbook here](https://www.inferentialthinking.com/chapters/08/2/Classifying_by_One_Variable.html)."
   ]
  },
  {
   "cell_type": "markdown",
   "metadata": {},
   "source": [
    "**Question 4. (2 pts)** From the `burritos` table, some of the restaurant locations have multiple reviews. Winifred thinks California burritos are the best type of burritos, and wants to see the average overall rating for California burritos at each location. Create a table that has two columns: the name of the restaurant and the average overall rating of California burritos at each location.\n",
    "\n",
    "*Tip: Revisit the burritos table to see how California burritos are represented.*\n",
    "\n",
    "*Note: you can break up the solution into multiple lines, as long as you assign the final output table to `california_burritos`!*\n"
   ]
  },
  {
   "cell_type": "code",
   "execution_count": null,
   "metadata": {
    "tags": [
     "q4"
    ]
   },
   "outputs": [],
   "source": [
    "california_burritos = ...\n",
    "california_burritos"
   ]
  },
  {
   "cell_type": "markdown",
   "metadata": {},
   "source": [
    "**Question 5. (1 pt)** Given this new table `california_burritos`, Winifred can figure out the name of the restaurant with the highest overall average rating! Assign `best_restaurant` to a line of code that evaluates to a string that corresponds to the name of the restaurant with the highest overall average rating. \n"
   ]
  },
  {
   "cell_type": "code",
   "execution_count": null,
   "metadata": {
    "tags": [
     "q5"
    ]
   },
   "outputs": [],
   "source": [
    "best_restaurant =  ...\n",
    "best_restaurant"
   ]
  },
  {
   "cell_type": "markdown",
   "metadata": {},
   "source": [
    "**Question 6. (2 pts)** Using the `burritos` table, assign `menu_average` to a table that has three columns that uniquely pairs the name of the restaurant, the menu item featured in the review, and the average Overall score for that menu item at that restaurant.\n",
    "\n",
    "*Hint: Use .group, and remember that you can group by multiple columns. Here's an example from the [textbook](https://www.inferentialthinking.com/chapters/08/3/Cross-Classifying_by_More_than_One_Variable.html)*.\n",
    "\n"
   ]
  },
  {
   "cell_type": "code",
   "execution_count": null,
   "metadata": {
    "tags": [
     "q6"
    ]
   },
   "outputs": [],
   "source": [
    "menu_average = ...\n",
    "menu_average"
   ]
  },
  {
   "cell_type": "markdown",
   "metadata": {},
   "source": [
    "**Question 7. (1 pt)** Tam thinks that burritos in San Diego are cheaper (and taste better) than the burritos in Berkeley. Plot a histogram that visualizes that distribution of the costs of the burritos from San Diego in the `burritos` table. Also use the provided `bins` variable when making your histogram, so that visually the histogram is more informative.\n",
    "\n"
   ]
  },
  {
   "cell_type": "code",
   "execution_count": null,
   "metadata": {
    "tags": [
     "q7"
    ]
   },
   "outputs": [],
   "source": [
    "our_bins = np.arange(0, 15, 1)\n",
    "# Please also use the provided bins\n",
    "..."
   ]
  },
  {
   "cell_type": "markdown",
   "metadata": {},
   "source": [
    "## 2.  Diversity and Enrollment\n",
    "\n"
   ]
  },
  {
   "cell_type": "markdown",
   "metadata": {},
   "source": [
    "In the next cell, we load a dataset which contains 2014 data of school enrollments across the country for 11 various student categories.  "
   ]
  },
  {
   "cell_type": "code",
   "execution_count": null,
   "metadata": {
    "tags": [
     "_track:diversity"
    ]
   },
   "outputs": [],
   "source": [
    "diversity=Table.read_table('diversity.csv').sort('state').relabeled(0,'school')\n",
    "#diversity = diversity.sort('name', descending=True)\n",
    "diversity.show(100)"
   ]
  },
  {
   "cell_type": "markdown",
   "metadata": {},
   "source": [
    "**Question 8. (2 pts)** Set `USA_schools` to a table with two columns. The first column should be called `state` and have the name of every state once, and the second column should be called `schools` with each row in that second column containing an *array* of the names of all schools in that state. \n",
    "\n",
    "*Hint:* Think about how ```group``` works: it collects values into an array and then applies a function to that array. We have defined two functions below for you, and you will need to use **one** of them in your call to ```group```.\n",
    "\n",
    " "
   ]
  },
  {
   "cell_type": "code",
   "execution_count": null,
   "metadata": {
    "tags": [
     "q8"
    ]
   },
   "outputs": [],
   "source": [
    "# Pick one of the two functions defined below in your call to group.\n",
    "def identity(array):\n",
    "    '''Returns the array that is passed through'''\n",
    "    return array \n",
    "\n",
    "def first(array):\n",
    "    '''Returns the first item'''\n",
    "    return array.item(0)\n",
    "\n",
    "# Make a call to group using one of the functions above when you define USA_schools\n",
    "USA_schools= ...\n",
    "USA_schools"
   ]
  },
  {
   "cell_type": "markdown",
   "metadata": {},
   "source": [
    "We want to use this table to generate arrays with the names of all schools in each state."
   ]
  },
  {
   "cell_type": "markdown",
   "metadata": {},
   "source": [
    "#### Understanding the code you just wrote is important for moving forward with the class! If you made a lucky guess, take some time to look at the code, step by step."
   ]
  },
  {
   "cell_type": "markdown",
   "metadata": {},
   "source": [
    "**Question 9. (2 pts)** At the moment, the ```state``` column of the `diversity` table is sorted by state. Would the arrays you generated in the `schools` column of the previous part be the same if we had sorted by `school` instead before generating them? Note that two arrays are the **same** if they contain the same number of elements and the elements located at corresponding indexes in the two arrays are identical. An example of arrays that are NOT the same: `array([1,2]) != array([2,1])`. Explain your answer.  "
   ]
  },
  {
   "cell_type": "markdown",
   "metadata": {
    "tags": [
     "q9"
    ]
   },
   "source": [
    "*Write your answer here, replacing this text.*"
   ]
  },
  {
   "cell_type": "markdown",
   "metadata": {},
   "source": [
    "**Question 10. (2 pts)** Set `state_averages` to a table containing states as the rows, and the category as the columns. The values in the rows should correspond to an enrollment average, defined as the **average of all enrollments  in the state for that category**. \n",
    "\n",
    "\n"
   ]
  },
  {
   "cell_type": "code",
   "execution_count": null,
   "metadata": {
    "tags": [
     "q10"
    ]
   },
   "outputs": [],
   "source": [
    "state_averages = ...\n",
    "state_averages"
   ]
  },
  {
   "cell_type": "markdown",
   "metadata": {},
   "source": [
    "**Question 11. (2 pts)** Set `state_ranges` to a table containing states as the rows, and the category as the columns. The values in the rows should correspond to an enrollment range, defined as the **range of enrollments across all schools in the state for that category**. \n",
    "\n",
    "*Hint:* First you'll need to define a new function `enrollment_range` which takes in an array of enrollments and returns the range of enrollments in that array. You can use the '`max` and `min` function in the body of this function to find the range.  To make the `state_ranges` table, you will need to use the `.pivot` method on the `diversity` table, along with your new `enrollment_range` function. "
   ]
  },
  {
   "cell_type": "code",
   "execution_count": null,
   "metadata": {
    "tags": [
     "q11"
    ]
   },
   "outputs": [],
   "source": [
    "# Define enrollment_range first\n",
    "def enrollment_range(enrollments):\n",
    "    return ... \n",
    "\n",
    "state_ranges = ...\n",
    "state_ranges"
   ]
  },
  {
   "cell_type": "markdown",
   "metadata": {},
   "source": [
    "**Question 12. (1 pt)** Do either of these tables provide some measure of the diversity of enrollment in each state?  If not, is there some way of measuring diversity from this `diversity` data set?\n"
   ]
  },
  {
   "cell_type": "markdown",
   "metadata": {
    "tags": [
     "q12"
    ]
   },
   "source": [
    "*The purpose of this question is for us to start thinking about what data can tell us, and what can be measured from a given set of data. Write your answer here, replacing this text.*"
   ]
  },
  {
   "cell_type": "markdown",
   "metadata": {},
   "source": [
    "### You've completed homework 4.  Congratutions! \n"
   ]
  }
 ],
 "metadata": {
  "celltoolbar": "Edit Metadata",
  "kernelspec": {
   "display_name": "Python 3",
   "language": "python",
   "name": "python3"
  },
  "language_info": {
   "codemirror_mode": {
    "name": "ipython",
    "version": 3
   },
   "file_extension": ".py",
   "mimetype": "text/x-python",
   "name": "python",
   "nbconvert_exporter": "python",
   "pygments_lexer": "ipython3",
   "version": "3.8.5"
  }
 },
 "nbformat": 4,
 "nbformat_minor": 4
}
