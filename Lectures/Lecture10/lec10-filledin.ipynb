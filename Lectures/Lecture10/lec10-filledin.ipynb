{
 "cells": [
  {
   "cell_type": "markdown",
   "metadata": {},
   "source": [
    "# Lecture 10: Groups"
   ]
  },
  {
   "cell_type": "markdown",
   "metadata": {},
   "source": [
    "Before we start, please make sure you've loaded the lecture notebook so you can work along."
   ]
  },
  {
   "cell_type": "markdown",
   "metadata": {},
   "source": [
    "We'll start by running the cell below to set up our notebook."
   ]
  },
  {
   "cell_type": "code",
   "execution_count": 15,
   "metadata": {},
   "outputs": [],
   "source": [
    "from datascience import *\n",
    "import numpy as np\n",
    "\n",
    "%matplotlib inline\n",
    "import matplotlib.pyplot as plots\n",
    "plots.style.use('fivethirtyeight')"
   ]
  },
  {
   "cell_type": "markdown",
   "metadata": {},
   "source": [
    "## Apply"
   ]
  },
  {
   "cell_type": "markdown",
   "metadata": {},
   "source": [
    "The **apply** method creates an array by calling a function on every element in input column(s). \n",
    "* First argument:   Function to apply\n",
    "* Other arguments:  The input column(s)\n",
    "\n",
    "<font color='blue'> table_name.apply(function_name, 'column_label')</font>\n"
   ]
  },
  {
   "cell_type": "code",
   "execution_count": 16,
   "metadata": {},
   "outputs": [
    {
     "data": {
      "text/html": [
       "<table border=\"1\" class=\"dataframe\">\n",
       "    <thead>\n",
       "        <tr>\n",
       "            <th>Detective</th> <th>Birth Year</th>\n",
       "        </tr>\n",
       "    </thead>\n",
       "    <tbody>\n",
       "        <tr>\n",
       "            <td>Diaz     </td> <td>1993      </td>\n",
       "        </tr>\n",
       "        <tr>\n",
       "            <td>Jeffords </td> <td>1990      </td>\n",
       "        </tr>\n",
       "        <tr>\n",
       "            <td>Santiago </td> <td>1997      </td>\n",
       "        </tr>\n",
       "        <tr>\n",
       "            <td>Boyle    </td> <td>1988      </td>\n",
       "        </tr>\n",
       "        <tr>\n",
       "            <td>Peralta  </td> <td>1985      </td>\n",
       "        </tr>\n",
       "    </tbody>\n",
       "</table>"
      ],
      "text/plain": [
       "Detective | Birth Year\n",
       "Diaz      | 1993\n",
       "Jeffords  | 1990\n",
       "Santiago  | 1997\n",
       "Boyle     | 1988\n",
       "Peralta   | 1985"
      ]
     },
     "execution_count": 16,
     "metadata": {},
     "output_type": "execute_result"
    }
   ],
   "source": [
    "#  Build a table called 'precinct' of some detectives in NYC,\n",
    "# and their birth years.\n",
    "precinct = Table().with_columns(\n",
    "    'Detective', make_array('Diaz', 'Jeffords', 'Santiago',\\\n",
    "                            'Boyle', 'Peralta'),\n",
    "    'Birth Year', make_array(1993, 1990, 1997, 1988, 1985)\n",
    ")\n",
    "precinct"
   ]
  },
  {
   "cell_type": "code",
   "execution_count": 20,
   "metadata": {},
   "outputs": [],
   "source": [
    "# Define the function amazing(). \n",
    "# Desired output: 'Detective <person> is an amazing detective/genius.' \n",
    "\n",
    "def amazing(person):\n",
    "    \"\"\" This function takes the string 'person' and inserts it\n",
    "        in the sentence\n",
    "        'Detective <person> is an amazing detective/genius.'    \n",
    "         \"\"\"\n",
    "    return 'Detective ' + person + ' is an amazing detective/genius.'"
   ]
  },
  {
   "cell_type": "code",
   "execution_count": 19,
   "metadata": {},
   "outputs": [
    {
     "data": {
      "text/plain": [
       "'Detective Holt is an amazing detective/genius.'"
      ]
     },
     "execution_count": 19,
     "metadata": {},
     "output_type": "execute_result"
    }
   ],
   "source": [
    "# Test our 'amazing' function.\n",
    "amazing(' Holt')"
   ]
  },
  {
   "cell_type": "code",
   "execution_count": 22,
   "metadata": {},
   "outputs": [
    {
     "data": {
      "text/plain": [
       "array(['Detective Diaz is an amazing detective/genius.',\n",
       "       'Detective Jeffords is an amazing detective/genius.',\n",
       "       'Detective Santiago is an amazing detective/genius.',\n",
       "       'Detective Boyle is an amazing detective/genius.',\n",
       "       'Detective Peralta is an amazing detective/genius.'], dtype='<U50')"
      ]
     },
     "execution_count": 22,
     "metadata": {},
     "output_type": "execute_result"
    }
   ],
   "source": [
    "# Use .apply with our new 'amazing' function, on our 'precinct' table.\n",
    "precinct.apply(amazing, 'Detective')"
   ]
  },
  {
   "cell_type": "code",
   "execution_count": 23,
   "metadata": {},
   "outputs": [],
   "source": [
    "# Define 'detective_age' function.  \n",
    "# Two variables: name, and birth. \n",
    "# Desired output: 'Detective <name> is <age> years old.'\n",
    "\n",
    "def detective_age(name, birth):\n",
    "    \"\"\"  This function takes the string argument 'name' and the integer argument 'age'\n",
    "         and produces the output \n",
    "        ' Detective <name> is <age> years old.'  \n",
    "         \"\"\"\n",
    "    age = 2021 - birth\n",
    "    return 'Detective ' + name + ' is ' + str(age) + \\\n",
    "           ' years old.'"
   ]
  },
  {
   "cell_type": "code",
   "execution_count": 24,
   "metadata": {},
   "outputs": [
    {
     "data": {
      "text/plain": [
       "array(['Detective Diaz is 28 years old.',\n",
       "       'Detective Jeffords is 31 years old.',\n",
       "       'Detective Santiago is 24 years old.',\n",
       "       'Detective Boyle is 33 years old.',\n",
       "       'Detective Peralta is 36 years old.'], dtype='<U35')"
      ]
     },
     "execution_count": 24,
     "metadata": {},
     "output_type": "execute_result"
    }
   ],
   "source": [
    "# Use .apply with our new 'detective_age'\n",
    "# function, on our 'precinct' table.\n",
    "precinct.apply(detective_age, 'Detective', 'Birth Year')"
   ]
  },
  {
   "cell_type": "markdown",
   "metadata": {},
   "source": [
    "<font color='green'>  </font>"
   ]
  },
  {
   "cell_type": "code",
   "execution_count": 25,
   "metadata": {},
   "outputs": [
    {
     "data": {
      "text/html": [
       "<table border=\"1\" class=\"dataframe\">\n",
       "    <thead>\n",
       "        <tr>\n",
       "            <th>Detective</th> <th>Birth Year</th> <th>Detective ages</th>\n",
       "        </tr>\n",
       "    </thead>\n",
       "    <tbody>\n",
       "        <tr>\n",
       "            <td>Diaz     </td> <td>1993      </td> <td>Detective Diaz is 28 years old.    </td>\n",
       "        </tr>\n",
       "        <tr>\n",
       "            <td>Jeffords </td> <td>1990      </td> <td>Detective Jeffords is 31 years old.</td>\n",
       "        </tr>\n",
       "        <tr>\n",
       "            <td>Santiago </td> <td>1997      </td> <td>Detective Santiago is 24 years old.</td>\n",
       "        </tr>\n",
       "        <tr>\n",
       "            <td>Boyle    </td> <td>1988      </td> <td>Detective Boyle is 33 years old.   </td>\n",
       "        </tr>\n",
       "        <tr>\n",
       "            <td>Peralta  </td> <td>1985      </td> <td>Detective Peralta is 36 years old. </td>\n",
       "        </tr>\n",
       "    </tbody>\n",
       "</table>"
      ],
      "text/plain": [
       "Detective | Birth Year | Detective ages\n",
       "Diaz      | 1993       | Detective Diaz is 28 years old.\n",
       "Jeffords  | 1990       | Detective Jeffords is 31 years old.\n",
       "Santiago  | 1997       | Detective Santiago is 24 years old.\n",
       "Boyle     | 1988       | Detective Boyle is 33 years old.\n",
       "Peralta   | 1985       | Detective Peralta is 36 years old."
      ]
     },
     "execution_count": 25,
     "metadata": {},
     "output_type": "execute_result"
    }
   ],
   "source": [
    "# Add new column of detective age strings onto our precinct table, using .with_column method.\n",
    "\n",
    "precinct.with_column('Detective ages', \\\n",
    "                      precinct.apply(detective_age, 'Detective', \\\n",
    "                                      'Birth Year'))"
   ]
  },
  {
   "cell_type": "markdown",
   "metadata": {},
   "source": [
    "## Prediction ##"
   ]
  },
  {
   "cell_type": "markdown",
   "metadata": {},
   "source": [
    "<font color='green'>  </font>"
   ]
  },
  {
   "cell_type": "markdown",
   "metadata": {},
   "source": [
    "This data represents all apartments available to sell in Sao Paulo, Brazil (as of May - 2019). The available variables are: area of the apartment, number of rooms, suites, bathrooms, parking spots, neighborhood identifier (JA - Jardim America and JP - Jardim Paulista) and listing price at that day.  This data set was [downloaded from here](https://www.kaggle.com/davivieirab/real-estate-data-brazil). "
   ]
  },
  {
   "cell_type": "code",
   "execution_count": 28,
   "metadata": {},
   "outputs": [
    {
     "data": {
      "text/html": [
       "<table border=\"1\" class=\"dataframe\">\n",
       "    <thead>\n",
       "        <tr>\n",
       "            <th>area</th> <th>price</th>\n",
       "        </tr>\n",
       "    </thead>\n",
       "    <tbody>\n",
       "        <tr>\n",
       "            <td>230 </td> <td>3.79e+06</td>\n",
       "        </tr>\n",
       "        <tr>\n",
       "            <td>136 </td> <td>1.59e+06</td>\n",
       "        </tr>\n",
       "        <tr>\n",
       "            <td>136 </td> <td>1.5e+06 </td>\n",
       "        </tr>\n",
       "        <tr>\n",
       "            <td>122 </td> <td>1.7e+06 </td>\n",
       "        </tr>\n",
       "        <tr>\n",
       "            <td>252 </td> <td>1.35e+06</td>\n",
       "        </tr>\n",
       "        <tr>\n",
       "            <td>136 </td> <td>1.8e+06 </td>\n",
       "        </tr>\n",
       "        <tr>\n",
       "            <td>130 </td> <td>1.4e+06 </td>\n",
       "        </tr>\n",
       "        <tr>\n",
       "            <td>130 </td> <td>1.35e+06</td>\n",
       "        </tr>\n",
       "        <tr>\n",
       "            <td>186 </td> <td>1.9e+06 </td>\n",
       "        </tr>\n",
       "        <tr>\n",
       "            <td>220 </td> <td>1.95e+06</td>\n",
       "        </tr>\n",
       "    </tbody>\n",
       "</table>\n",
       "<p>... (990 rows omitted)</p>"
      ],
      "text/plain": [
       "area | price\n",
       "230  | 3.79e+06\n",
       "136  | 1.59e+06\n",
       "136  | 1.5e+06\n",
       "122  | 1.7e+06\n",
       "252  | 1.35e+06\n",
       "136  | 1.8e+06\n",
       "130  | 1.4e+06\n",
       "130  | 1.35e+06\n",
       "186  | 1.9e+06\n",
       "220  | 1.95e+06\n",
       "... (990 rows omitted)"
      ]
     },
     "execution_count": 28,
     "metadata": {},
     "output_type": "execute_result"
    }
   ],
   "source": [
    "# Import table of real estate data.  \n",
    "# The 'area' column gives the area of each apartment \n",
    "# in square meters. The 'price' column gives the \n",
    "# listing price of each aparment in real \n",
    "# (Brazilian unit of currency, pronounced 'hey-al')\n",
    "\n",
    "# This table only selects the first 1000 rows \n",
    "# of the full data set, and only for apartments\n",
    "# with area between 100 and 300 square meters.\n",
    "\n",
    "sao_paulo = Table.read_table('real_estate_kaggle.csv')\\\n",
    "            .select('area', 'price')\\\n",
    "            .where('area', are.between(100,300))\\\n",
    "            .take(np.arange(1000))\n",
    "sao_paulo"
   ]
  },
  {
   "cell_type": "code",
   "execution_count": 29,
   "metadata": {},
   "outputs": [
    {
     "data": {
      "image/png": "[encoded data removed]",
      "text/plain": [
       "<Figure size 360x360 with 1 Axes>"
      ]
     },
     "metadata": {},
     "output_type": "display_data"
    }
   ],
   "source": [
    "# Use .scatter on the 'sao_paulo' table\n",
    "sao_paulo.scatter('area', 'price')"
   ]
  },
  {
   "cell_type": "markdown",
   "metadata": {},
   "source": [
    "### What's the price of an apartment with area of 170 square meters?  Our prediction strategy:\n",
    "\n",
    "1) Choose a small interval of values around 170 square meters: from 160 to 180\n",
    "\n",
    "2) Take the average of *all* prices within that range of values"
   ]
  },
  {
   "cell_type": "code",
   "execution_count": 30,
   "metadata": {},
   "outputs": [
    {
     "data": {
      "image/png": "[encoded data removed]",
      "text/plain": [
       "<Figure size 360x360 with 1 Axes>"
      ]
     },
     "metadata": {},
     "output_type": "display_data"
    }
   ],
   "source": [
    "# Generate a plot with 'sao_paulo' table;\n",
    "# show interval between 160 and 180 square meters.\n",
    "\n",
    "sao_paulo.scatter('area', 'price')\n",
    "plots.plot([160, 160], [1000000,7000000], color='red', lw=2)\n",
    "plots.plot([180,180], [1000000,7000000], color='red', lw=2);"
   ]
  },
  {
   "cell_type": "markdown",
   "metadata": {},
   "source": [
    "<font color='green'>  </font>"
   ]
  },
  {
   "cell_type": "code",
   "execution_count": 31,
   "metadata": {},
   "outputs": [
    {
     "data": {
      "text/plain": [
       "1957500.0"
      ]
     },
     "execution_count": 31,
     "metadata": {},
     "output_type": "execute_result"
    }
   ],
   "source": [
    "# Find the average of price for all apartments with area \n",
    "# between 160 and 180 square meters.\n",
    "nearby = sao_paulo.where('area', are.between(160, 180))\n",
    "nearby_mean = nearby.column('price').mean()\n",
    "nearby_mean"
   ]
  },
  {
   "cell_type": "code",
   "execution_count": 32,
   "metadata": {},
   "outputs": [
    {
     "data": {
      "image/png": "[encoded data removed]",
      "text/plain": [
       "<Figure size 360x360 with 1 Axes>"
      ]
     },
     "metadata": {},
     "output_type": "display_data"
    }
   ],
   "source": [
    "# Generate a plot with 'sao_paulo' table;\n",
    "# show interval between 160 and 180 square meters.\n",
    "# Include our predicted price for an apartment with\n",
    "# area of 170 square meters.\n",
    "\n",
    "sao_paulo.scatter('area', 'price')\n",
    "plots.plot([160, 160], [1000000,7000000], color='red', lw=2)\n",
    "plots.plot([180,180], [1000000,7000000], color='red', lw=2);\n",
    "plots.scatter(170, nearby_mean, color='red', s=50);"
   ]
  },
  {
   "cell_type": "code",
   "execution_count": 34,
   "metadata": {},
   "outputs": [],
   "source": [
    "# Write a new function, called 'predict', with a single \n",
    "# argument: the size of an apartment (in square meters).\n",
    "# The function will return the predicted price of such an \n",
    "# apartment. \n",
    "def predict(a):\n",
    "    \"\"\" This function will return the predicted price of an \n",
    "        apartment with area 'a' meters.\"\"\"\n",
    "    nearby = sao_paulo.where('area', \\\n",
    "                             are.between(a - 10, a + 10))\n",
    "    return np.round(nearby.column('price').mean(), 2)"
   ]
  },
  {
   "cell_type": "code",
   "execution_count": 35,
   "metadata": {},
   "outputs": [
    {
     "data": {
      "text/plain": [
       "1453026.32"
      ]
     },
     "execution_count": 35,
     "metadata": {},
     "output_type": "execute_result"
    }
   ],
   "source": [
    "# Test our new function... \n",
    "predict(120)"
   ]
  },
  {
   "cell_type": "code",
   "execution_count": 36,
   "metadata": {},
   "outputs": [
    {
     "data": {
      "text/plain": [
       "3655294.12"
      ]
     },
     "execution_count": 36,
     "metadata": {},
     "output_type": "execute_result"
    }
   ],
   "source": [
    "# Test again...\n",
    "predict(300)"
   ]
  },
  {
   "cell_type": "code",
   "execution_count": 40,
   "metadata": {},
   "outputs": [
    {
     "data": {
      "text/plain": [
       "array([3061743.8 , 1593729.38, 1593729.38, 1479719.18, 3323189.19,\n",
       "       1593729.38, 1530726.18, 1530726.18, 2330412.29, 2822256.88,\n",
       "       1483005.6 , 1593729.38, 1450800.  , 1976636.36, 2594610.69,\n",
       "       1392566.93, 1288300.  , 2901192.  , 3316292.68, 1715051.6 ,\n",
       "       1483005.6 , 2026878.5 , 3040642.86, 1962560.98, 1488544.49,\n",
       "       1521935.22, 2431008.34, 2273927.93, 2026878.5 , 1609755.18,\n",
       "       3506399.6 , 3452719.3 , 1917820.13, 3061743.8 , 1586031.61,\n",
       "       1481836.88, 2333469.04, 3168154.64, 2711423.73, 1936540.51,\n",
       "       3911250.  , 2351119.28, 2725764.24, 3061743.8 , 3061743.8 ,\n",
       "       1443934.64, 1871445.51, 2594610.69, 1453026.32, 1455503.36,\n",
       "       1453026.32, 2822256.88, 2822256.88, 1936540.51, 3309942.86,\n",
       "       1754662.67, 2333469.04, 1957500.  , 3379241.94, 2711241.68,\n",
       "       2706190.09, 2830495.58, 2822256.88, 1784996.36, 2739898.31,\n",
       "       1453026.32, 2711423.73, 3061743.8 , 1979000.  , 2287107.14,\n",
       "       2959422.76, 1957500.  , 2822256.88, 1953630.95, 2711423.73,\n",
       "       2863681.42, 1392566.93, 1658801.33, 3061743.8 , 2822256.88,\n",
       "       3061743.8 , 2822256.88, 2347045.05, 1967047.06, 3061743.8 ,\n",
       "       1754662.67, 1303439.39, 2696136.75, 2822256.88, 1956559.21,\n",
       "       3818857.14, 1425208.05, 1987474.29, 2083444.44, 1957500.  ,\n",
       "       2822256.88, 3386257.58, 2706190.09, 1364609.52, 1967047.06,\n",
       "       2594610.69, 3362432.16, 1570910.9 , 1481836.88, 1609755.18,\n",
       "       2540129.04, 1987474.29, 2351119.28, 2287107.14, 3165061.86,\n",
       "       3061743.8 , 1715051.6 , 1940353.66, 2822256.88, 1609755.18,\n",
       "       1609755.18, 1453026.32, 1433383.56, 1863528.99, 1586031.61,\n",
       "       3818857.14, 1935578.62, 2901192.  , 1964842.98, 2333469.04,\n",
       "       1567770.56, 1354518.99, 1600520.4 , 2717492.07, 3452719.3 ,\n",
       "       1425208.05, 1967047.06, 1609755.18, 3799729.73, 1755996.25,\n",
       "       1959121.39, 1967047.06, 1609755.18, 3911250.  , 2719172.14,\n",
       "       3818857.14, 3040642.86, 1976636.36, 1917820.13, 1288300.  ,\n",
       "       1957500.  , 2822256.88, 1288300.  , 1425208.05, 1979000.  ,\n",
       "       3452719.3 , 3818857.14, 1957500.  , 2739898.31, 1923593.75,\n",
       "       1957500.  , 1940353.66, 1586031.61, 2822256.88, 2794915.38,\n",
       "       1354518.99, 2822256.88, 2403588.79, 1967047.06, 1383438.02,\n",
       "       1940353.66, 1593729.38, 2287107.14, 2739898.31, 1483005.6 ,\n",
       "       2706190.09, 1917820.13, 3911250.  , 1723348.74, 3362432.16,\n",
       "       1450800.  , 1409895.1 , 1409895.1 , 3506399.6 , 1425208.05,\n",
       "       1453026.32, 1392566.93, 1940353.66, 2594610.69, 2756838.24,\n",
       "       1959121.39, 1450800.  , 2822256.88, 2163190.91, 1609755.18,\n",
       "       1917820.13, 1609755.18, 2347045.05, 1453026.32, 2719172.14,\n",
       "       1425208.05, 3818857.14, 2141918.18, 1755996.25, 2739898.31,\n",
       "       1754662.67, 1940625.  , 1959121.39, 1600520.4 , 3818857.14,\n",
       "       1917820.13, 1422060.81, 1609755.18, 1520437.67, 1858943.2 ,\n",
       "       1392566.93, 1392566.93, 1953630.95, 1567770.56, 1962560.98,\n",
       "       3513332.96, 2273927.93, 3309942.86, 3040642.86, 2396579.45,\n",
       "       2351119.28, 2594610.69, 3818857.14, 1453026.32, 1593729.38,\n",
       "       2901192.  , 1957500.  , 3067528.  , 2719172.14, 3818857.14,\n",
       "       3365365.85, 3309942.86, 3328121.21, 2954872.  , 1479719.18,\n",
       "       1530726.18, 3322809.52, 1962560.98, 1715051.6 , 2901192.  ,\n",
       "       3306789.47, 3278740.26, 3513332.96, 1455503.36, 1510231.44,\n",
       "       1940353.66, 2696136.75, 3061743.8 , 1967047.06, 1863528.99,\n",
       "       3067528.  , 2739898.31, 1863528.99, 2351119.28, 1288300.  ,\n",
       "       2726448.28, 2347045.05, 1863528.99, 1723348.74, 1598909.02,\n",
       "       3061743.8 , 1715051.6 , 1609755.18, 2503590.56, 1364609.52,\n",
       "       3067528.  , 1609755.18, 2594610.69, 3911250.  , 1392566.93,\n",
       "       3323189.19, 1488544.49, 1715051.6 , 2083444.44, 2287107.14,\n",
       "       1409895.1 , 1334824.32, 2396579.45, 1392566.93, 1962560.98,\n",
       "       2822256.88, 3869729.73, 1455503.36, 2717492.07, 1354518.99,\n",
       "       3278740.26, 1863528.99, 3322809.52, 2213298.25, 2351119.28,\n",
       "       3067528.  , 2375551.41, 2347045.05, 1921574.8 , 1586031.61,\n",
       "       1976636.36, 2351119.28, 1454304.64, 2098500.  , 1956559.21,\n",
       "       1970456.14, 1917820.13, 1784996.36, 2901192.  , 3309942.86,\n",
       "       2726448.28, 1964842.98, 2351119.28, 2706190.09, 2330018.19,\n",
       "       2726448.28, 1593729.38, 1288300.  , 1956559.21, 3532702.43,\n",
       "       2532118.53, 1953630.95, 2726448.28, 3818857.14, 1940353.66,\n",
       "       3299463.17, 3299463.17, 3309942.86, 1976636.36, 1959121.39,\n",
       "       2954872.  , 1392566.93, 2711423.73, 1334824.32, 1953630.95,\n",
       "       1392566.93, 2333469.04, 3278740.26, 3278740.26, 1288300.  ,\n",
       "       1917820.13, 2822256.88, 1296857.14, 1964560.  , 2964090.16,\n",
       "       1863528.99, 1453026.32, 1940625.  , 1863528.99, 1953630.95,\n",
       "       1967047.06, 1450800.  , 3165061.86, 1940625.  , 1609755.18,\n",
       "       1530726.18, 1425208.05, 1936540.51, 1964842.98, 2594610.69,\n",
       "       1425208.05, 1715051.6 , 1425208.05, 1425208.05, 3309942.86,\n",
       "       2706190.09, 1959121.39, 3911250.  , 1593729.38, 3061743.8 ,\n",
       "       2163190.91, 1923593.75, 1953630.95, 3322809.52, 2330412.29,\n",
       "       1422060.81, 3362432.16, 1288300.  , 1425208.05, 3911250.  ,\n",
       "       1979000.  , 1425208.05, 2901192.  , 2726448.28, 1962560.98,\n",
       "       3799729.73, 3061743.8 , 1784996.36, 1392566.93, 1956559.21,\n",
       "       1609755.18, 1956559.21, 2403588.79, 1948300.  , 1530726.18,\n",
       "       1962560.98, 1976636.36, 3818857.14, 1483005.6 , 1530726.18,\n",
       "       2431008.34, 1784996.36, 1921574.8 , 1483005.6 , 2061757.28,\n",
       "       1433383.56, 2739898.31, 1976636.36, 1940625.  , 1609755.18,\n",
       "       2719172.14, 2740939.13, 2959422.76, 3299463.17, 3299463.17,\n",
       "       3061743.8 , 1593086.61, 1392566.93, 2330018.19, 3309942.86,\n",
       "       3818857.14, 2351119.28, 1959121.39, 1453026.32, 1863528.99,\n",
       "       2431008.34, 2959422.76, 1976636.36, 2787152.78, 1754662.67,\n",
       "       3818857.14, 3229548.78, 2822256.88, 3818857.14, 1481836.88,\n",
       "       2163190.91, 1383438.02, 2822256.88, 3309942.86, 1863528.99,\n",
       "       3165061.86, 2711423.73, 2711423.73, 1964842.98, 1354518.99,\n",
       "       2098500.  , 1959121.39, 2711241.68, 2163190.91, 2954872.  ,\n",
       "       1354518.99, 1530726.18, 1586031.61, 1959121.39, 3362432.16,\n",
       "       1392566.93, 1598909.02, 1715051.6 , 1477306.12, 1530726.18,\n",
       "       3799729.73, 1959121.39, 1334824.32, 3911250.  , 1864319.76,\n",
       "       1609755.18, 3278740.26, 3190263.16, 1964560.  , 3604571.14,\n",
       "       1530726.18, 2163190.91, 1409895.1 , 1957500.  , 3309942.86,\n",
       "       3278740.26, 1871445.51, 3309942.86, 1530726.18, 2706190.09,\n",
       "       1598909.02, 2273927.93, 3316292.68, 1453026.32, 2711423.73,\n",
       "       1967047.06, 1715051.6 , 1479719.18, 1940353.66, 1863528.99,\n",
       "       2706190.09, 1425208.05, 1609755.18, 1586031.61, 1288300.  ,\n",
       "       1410809.86, 2822256.88, 1921574.8 , 3818857.14, 1970456.14,\n",
       "       1863528.99, 2163190.91, 2213298.25, 1917820.13, 1964560.  ,\n",
       "       1948300.  , 1715051.6 , 2333469.04, 1957500.  , 3061743.8 ,\n",
       "       2503590.56, 2330018.19, 1863528.99, 2794915.38, 2351119.28,\n",
       "       1453026.32, 1570910.9 , 2706190.09, 2333469.04, 1609755.18,\n",
       "       1959121.39, 2706190.09, 3299463.17, 2719172.14, 1483005.6 ,\n",
       "       1593729.38, 2739898.31, 1935578.62, 2799220.47, 1609755.18,\n",
       "       2540129.04, 3061743.8 , 1609755.18, 1948300.  , 2959422.76,\n",
       "       1483005.6 , 3040642.86, 1425208.05, 2273927.93, 1392566.93,\n",
       "       2696136.75, 1425208.05, 3061743.8 , 1964842.98, 1976636.36,\n",
       "       2711423.73, 2163190.91, 1953630.95, 1609755.18, 2330412.29,\n",
       "       2830495.58, 1964560.  , 2863681.42, 1935578.62, 1715051.6 ,\n",
       "       2822256.88, 2333469.04, 1530726.18, 1940625.  , 1970456.14,\n",
       "       1863528.99, 1530726.18, 2830495.58, 2213298.25, 3061743.8 ,\n",
       "       2901192.  , 1521935.22, 1953630.95, 1392566.93, 1609755.18,\n",
       "       1392566.93, 2711241.68, 3061743.8 , 1609755.18, 1586031.61,\n",
       "       1784996.36, 2330018.19, 2822256.88, 1392566.93, 1433383.56,\n",
       "       1570910.9 , 1600520.4 , 1450800.  , 1392566.93, 2540129.04,\n",
       "       1957500.  , 1450800.  , 2696136.75, 2083444.44, 1364609.52,\n",
       "       3040642.86, 1940625.  , 1658801.33, 1368370.37, 1593729.38,\n",
       "       3911250.  , 1964842.98, 1453026.32, 1392566.93, 1754662.67,\n",
       "       1483005.6 , 2706190.09, 2901192.  , 1425208.05, 1957500.  ,\n",
       "       1339171.05, 1976636.36, 1593729.38, 2711423.73, 2396579.45,\n",
       "       1354518.99, 1510231.44, 2503590.56, 1288300.  , 1409895.1 ,\n",
       "       2964090.16, 1967047.06, 1521935.22, 1964842.98, 1962560.98,\n",
       "       1959121.39, 1957500.  , 1600520.4 , 1453026.32, 2330412.29,\n",
       "       1976636.36, 1364609.52, 3532702.43, 1715051.6 , 1454304.64,\n",
       "       2532118.53, 2347045.05, 2964090.16, 2273927.93, 1334824.32,\n",
       "       1477306.12, 1723348.74, 2964090.16, 2711241.68, 2863681.42,\n",
       "       2706190.09, 2008871.29, 1957500.  , 1528919.47, 2901192.  ,\n",
       "       2739898.31, 1425208.05, 1967047.06, 2706190.09, 1962560.98,\n",
       "       3299463.17, 1303439.39, 2706190.09, 3061743.8 , 1530726.18,\n",
       "       1957500.  , 1288300.  , 1453026.32, 1962560.98, 3165061.86,\n",
       "       1453026.32, 1976636.36, 2822256.88, 1964560.  , 2083444.44,\n",
       "       1871445.51, 3322809.52, 1288300.  , 2347045.05, 1784996.36,\n",
       "       2739898.31, 2901192.  , 2740939.13, 3299463.17, 1964560.  ,\n",
       "       1481836.88, 2822256.88, 2594610.69, 3362432.16, 1425208.05,\n",
       "       1425208.05, 2273927.93, 1962560.98, 1409895.1 , 1863528.99,\n",
       "       2894750.  , 2351119.28, 3362432.16, 1521935.22, 2822256.88,\n",
       "       1453026.32, 2964090.16, 3061743.8 , 1940353.66, 1979000.  ,\n",
       "       2711423.73, 3818857.14, 2964090.16, 2351119.28, 3322809.52,\n",
       "       1940625.  , 2964090.16, 1598909.02, 1959121.39, 2749889.76,\n",
       "       1593729.38, 1593729.38, 1593086.61, 3309942.86, 1976636.36,\n",
       "       1863528.99, 1754662.67, 2822256.88, 3040642.86, 2711241.68,\n",
       "       2711423.73, 2726448.28, 1964560.  , 1364609.52, 1410809.86,\n",
       "       1970456.14, 2726448.28, 1964560.  , 1967047.06, 2008871.29,\n",
       "       3818857.14, 2163190.91, 2403588.79, 1392566.93, 1392566.93,\n",
       "       1483005.6 , 1948300.  , 2098500.  , 1425208.05, 2954872.  ,\n",
       "       1755996.25, 2739898.31, 2351119.28, 1956559.21, 1609755.18,\n",
       "       1530726.18, 1962560.98, 1530726.18, 1483005.6 , 1425208.05,\n",
       "       2756838.24, 1455503.36, 1479719.18, 2822256.88, 2711423.73,\n",
       "       1609755.18, 2163190.91, 1454304.64, 1754662.67, 1586031.61,\n",
       "       2719172.14, 2706190.09, 1528919.47, 1864319.76, 2282165.14,\n",
       "       1453026.32, 1392566.93, 1962560.98, 1658801.33, 1871445.51,\n",
       "       2711423.73, 1609755.18, 2725764.24, 2163190.91, 3061743.8 ,\n",
       "       1334824.32, 1479719.18, 2739898.31, 1334824.32, 1425208.05,\n",
       "       1443934.64, 2719172.14, 1936540.51, 2083444.44, 1979000.  ,\n",
       "       2282165.14, 3506399.6 , 1964842.98, 2008871.29, 2208837.84,\n",
       "       3818857.14, 3068585.94, 2532118.53, 1454304.64, 1957500.  ,\n",
       "       1425208.05, 2749889.76, 3386257.58, 2594610.69, 2431008.34,\n",
       "       3506399.6 , 2739898.31, 1863528.99, 1953630.95, 1940353.66,\n",
       "       2740939.13, 1453026.32, 2711423.73, 1530726.18, 1959121.39,\n",
       "       3278740.26, 2756838.24, 2351119.28, 1410809.86, 1453026.32,\n",
       "       3360249.75, 1443934.64, 2330412.29, 1962560.98, 2273927.93,\n",
       "       1864319.76, 1969578.95, 1979000.  , 2711423.73, 1453026.32,\n",
       "       2347045.05, 1921574.8 , 2756838.24, 2822256.88, 2822256.88,\n",
       "       1959121.39, 3309942.86, 2711423.73, 2351119.28, 1453026.32,\n",
       "       3475333.  , 1962560.98, 2740939.13, 3061743.8 , 3061743.8 ,\n",
       "       1454304.64, 3299463.17, 1917820.13, 1450800.  , 1967047.06,\n",
       "       2719172.14, 1453026.32, 1959121.39, 3362432.16, 1962560.98,\n",
       "       2749889.76, 2719172.14, 2787152.78, 2431008.34, 1453026.32,\n",
       "       2822256.88, 1450800.  , 3452719.3 , 3911250.  , 1863528.99,\n",
       "       1479719.18, 2208837.84, 2594610.69, 1970456.14, 1368370.37,\n",
       "       3869729.73, 1453026.32, 1976636.36, 2163190.91, 2163190.91,\n",
       "       2351119.28, 1940353.66, 1957500.  , 2594610.69, 3604571.14,\n",
       "       3068585.94, 2330412.29, 2822256.88, 3299463.17, 1488544.49,\n",
       "       2725764.24, 2964090.16, 2726448.28, 2141918.18, 1957500.  ,\n",
       "       2706190.09, 2431008.34, 1392566.93, 2083444.44, 2711241.68,\n",
       "       3040642.86, 1953630.95, 2706190.09, 2287107.14, 1392566.93,\n",
       "       3061743.8 , 2959422.76, 2330018.19, 1567238.18, 1940625.  ,\n",
       "       1598909.02, 2083444.44, 2739898.31, 3818857.14, 3818857.14,\n",
       "       1917820.13, 1409895.1 , 3506399.6 , 1953630.95, 1967047.06,\n",
       "       3818857.14, 1917820.13, 3452719.3 , 3513332.96, 2706190.09,\n",
       "       1530726.18, 1959121.39, 1936540.51, 3513332.96, 1964842.98,\n",
       "       3068585.94, 2351119.28, 3452719.3 , 1964560.  , 2403588.79,\n",
       "       1976636.36, 1488544.49, 3353376.81, 2330018.19, 2098500.  ,\n",
       "       3452719.3 , 1953630.95, 1959121.39, 1425208.05, 1383438.02,\n",
       "       1425208.05, 3061743.8 , 1953630.95, 2706190.09, 3513332.96,\n",
       "       1962560.98, 3299463.17, 1453026.32, 3061743.8 , 1425208.05,\n",
       "       1593086.61, 1609755.18, 3362432.16, 2749889.76, 3360249.75,\n",
       "       2347045.05, 2351119.28, 1530726.18, 3040642.86, 1454304.64,\n",
       "       1593729.38, 1455503.36, 1383438.02, 2163190.91, 3316292.68,\n",
       "       1488544.49, 2375551.41, 1754662.67, 1964560.  , 2403588.79,\n",
       "       2403588.79, 3818857.14, 1953630.95, 2594610.69, 2098500.  ,\n",
       "       1409895.1 , 3061743.8 , 2532118.53, 1593729.38, 2711241.68,\n",
       "       2098500.  , 2330412.29, 1425208.05, 1521935.22, 2333469.04,\n",
       "       2711241.68, 1339171.05, 3532702.43, 3309942.86, 1567238.18,\n",
       "       2163190.91, 2753777.78, 2901192.  , 2822256.88, 1863528.99,\n",
       "       2711423.73, 2273927.93, 1976636.36, 2375551.41, 2351119.28,\n",
       "       1959121.39, 1479719.18, 1453026.32, 1453026.32, 2964090.16,\n",
       "       1976636.36, 1858943.2 , 3309942.86, 1288300.  , 1962560.98,\n",
       "       1976636.36, 1959121.39, 1940353.66, 3475333.  , 1609755.18])"
      ]
     },
     "execution_count": 40,
     "metadata": {},
     "output_type": "execute_result"
    }
   ],
   "source": [
    "# Apply our new function 'predict' to the \n",
    "# 'area' column of sao_paulo\n",
    "predicted_price = sao_paulo.apply(predict, 'area')\n",
    "predicted_price"
   ]
  },
  {
   "cell_type": "code",
   "execution_count": 42,
   "metadata": {},
   "outputs": [
    {
     "data": {
      "text/html": [
       "<table border=\"1\" class=\"dataframe\">\n",
       "    <thead>\n",
       "        <tr>\n",
       "            <th>area</th> <th>price</th> <th>predictedPrice</th>\n",
       "        </tr>\n",
       "    </thead>\n",
       "    <tbody>\n",
       "        <tr>\n",
       "            <td>230 </td> <td>3.79e+06</td> <td>3.06174e+06   </td>\n",
       "        </tr>\n",
       "        <tr>\n",
       "            <td>136 </td> <td>1.59e+06</td> <td>1.59373e+06   </td>\n",
       "        </tr>\n",
       "        <tr>\n",
       "            <td>136 </td> <td>1.5e+06 </td> <td>1.59373e+06   </td>\n",
       "        </tr>\n",
       "        <tr>\n",
       "            <td>122 </td> <td>1.7e+06 </td> <td>1.47972e+06   </td>\n",
       "        </tr>\n",
       "        <tr>\n",
       "            <td>252 </td> <td>1.35e+06</td> <td>3.32319e+06   </td>\n",
       "        </tr>\n",
       "        <tr>\n",
       "            <td>136 </td> <td>1.8e+06 </td> <td>1.59373e+06   </td>\n",
       "        </tr>\n",
       "        <tr>\n",
       "            <td>130 </td> <td>1.4e+06 </td> <td>1.53073e+06   </td>\n",
       "        </tr>\n",
       "        <tr>\n",
       "            <td>130 </td> <td>1.35e+06</td> <td>1.53073e+06   </td>\n",
       "        </tr>\n",
       "        <tr>\n",
       "            <td>186 </td> <td>1.9e+06 </td> <td>2.33041e+06   </td>\n",
       "        </tr>\n",
       "        <tr>\n",
       "            <td>220 </td> <td>1.95e+06</td> <td>2.82226e+06   </td>\n",
       "        </tr>\n",
       "    </tbody>\n",
       "</table>\n",
       "<p>... (990 rows omitted)</p>"
      ],
      "text/plain": [
       "area | price    | predictedPrice\n",
       "230  | 3.79e+06 | 3.06174e+06\n",
       "136  | 1.59e+06 | 1.59373e+06\n",
       "136  | 1.5e+06  | 1.59373e+06\n",
       "122  | 1.7e+06  | 1.47972e+06\n",
       "252  | 1.35e+06 | 3.32319e+06\n",
       "136  | 1.8e+06  | 1.59373e+06\n",
       "130  | 1.4e+06  | 1.53073e+06\n",
       "130  | 1.35e+06 | 1.53073e+06\n",
       "186  | 1.9e+06  | 2.33041e+06\n",
       "220  | 1.95e+06 | 2.82226e+06\n",
       "... (990 rows omitted)"
      ]
     },
     "execution_count": 42,
     "metadata": {},
     "output_type": "execute_result"
    }
   ],
   "source": [
    "# Add the array 'predicted_price' to the 'sao_paulo'\n",
    "# table, using the .with_column method\n",
    "sao_paulo = sao_paulo.with_column('predictedPrice', predicted_price)\n",
    "sao_paulo"
   ]
  },
  {
   "cell_type": "code",
   "execution_count": 43,
   "metadata": {
    "scrolled": true
   },
   "outputs": [
    {
     "data": {
      "image/png": "[encoded data removed]",
      "text/plain": [
       "<Figure size 360x360 with 1 Axes>"
      ]
     },
     "metadata": {},
     "output_type": "display_data"
    }
   ],
   "source": [
    "# Overlay the 'sao_paulo' data with predictions. \n",
    "# Use .select to make a new table with only columns \n",
    "# 'area', 'price', 'predictedPrice', \n",
    "# then use .scatter method\n",
    "sao_paulo.select('area', 'price', 'predictedPrice').scatter('area')"
   ]
  },
  {
   "cell_type": "markdown",
   "metadata": {},
   "source": [
    "## Prediction Accuracy ##"
   ]
  },
  {
   "cell_type": "code",
   "execution_count": 44,
   "metadata": {},
   "outputs": [],
   "source": [
    "# Define a new function called 'difference' to measure \n",
    "# the difference between two values\n",
    "\n",
    "def difference(x, y):\n",
    "    return x - y"
   ]
  },
  {
   "cell_type": "code",
   "execution_count": 45,
   "metadata": {},
   "outputs": [
    {
     "data": {
      "text/plain": [
       "-5"
      ]
     },
     "execution_count": 45,
     "metadata": {},
     "output_type": "execute_result"
    }
   ],
   "source": [
    "difference(5,10)"
   ]
  },
  {
   "cell_type": "code",
   "execution_count": 46,
   "metadata": {},
   "outputs": [
    {
     "data": {
      "text/plain": [
       "array([-7.28256200e+05,  3.72938000e+03,  9.37293800e+04, -2.20280820e+05,\n",
       "        1.97318919e+06, -2.06270620e+05,  1.30726180e+05,  1.80726180e+05,\n",
       "        4.30412290e+05,  8.72256880e+05, -1.69944000e+04,  9.37293800e+04,\n",
       "       -4.49200000e+05, -2.33636400e+04, -1.05389310e+05,  4.25669300e+04,\n",
       "        3.08300000e+05,  1.01192000e+05,  1.71629268e+06,  1.50516000e+04,\n",
       "       -8.69944000e+04,  7.68785000e+04,  8.50642860e+05,  3.62560980e+05,\n",
       "        1.08544490e+05,  3.21935220e+05, -2.72999266e+06, -2.26072070e+05,\n",
       "        2.76878500e+05,  2.23755180e+05, -8.93600400e+05,  1.05271930e+06,\n",
       "       -6.82179870e+05, -1.63825620e+06, -1.13968390e+05, -2.68163120e+05,\n",
       "       -2.66530960e+05, -5.31845360e+05,  5.11423730e+05,  3.36540510e+05,\n",
       "       -4.88750000e+05,  5.01119280e+05,  9.25764240e+05,  3.61743800e+05,\n",
       "       -7.28256200e+05,  4.43934640e+05,  2.81445510e+05,  1.79461069e+06,\n",
       "        2.63026320e+05,  5.55033600e+04,  5.30263200e+04,  4.22256880e+05,\n",
       "        5.22256880e+05, -2.63459490e+05,  1.09942860e+05, -1.60337330e+05,\n",
       "       -1.05653096e+06,  2.87500000e+05, -6.00758060e+05,  4.11241680e+05,\n",
       "       -4.33809910e+05, -1.49504420e+05,  8.72256880e+05,  5.04996360e+05,\n",
       "       -1.16010169e+06,  2.53026320e+05,  7.21423730e+05,  2.61743800e+05,\n",
       "        4.29000000e+05, -6.12892860e+05,  1.00942276e+06, -2.42500000e+05,\n",
       "       -6.77743120e+05,  3.53630950e+05, -3.85762700e+04,  5.63681420e+05,\n",
       "       -7.43307000e+03,  3.78801330e+05, -7.15256200e+05, -1.27743120e+05,\n",
       "        5.63743800e+05,  1.72256880e+05,  3.67045050e+05,  1.17047060e+05,\n",
       "       -7.28256200e+05,  3.04662670e+05,  2.03439390e+05,  6.46136750e+05,\n",
       "        1.22256880e+05,  3.56559210e+05,  1.21885714e+06,  7.52080500e+04,\n",
       "       -1.42525710e+05, -8.66555560e+05,  2.07500000e+05, -1.57774312e+06,\n",
       "        1.69625758e+06, -4.43809910e+05,  5.44609520e+05, -4.12952940e+05,\n",
       "       -1.05389310e+05, -3.75678400e+04,  2.09109000e+04,  2.29836880e+05,\n",
       "       -9.02448200e+04,  4.01290400e+04, -1.60252571e+06,  5.11192800e+04,\n",
       "       -6.28928600e+04, -1.43493814e+06, -2.86256200e+05,  1.50516000e+04,\n",
       "        5.20353660e+05,  2.22568800e+04, -9.02448200e+04, -1.40244820e+05,\n",
       "        5.40263200e+04, -2.16616440e+05,  1.63528990e+05,  8.60316100e+04,\n",
       "       -5.71142860e+05,  4.85578620e+05, -3.88808000e+05,  5.84842980e+05,\n",
       "       -2.66530960e+05,  6.77705600e+04,  3.04518990e+05,  3.00520400e+05,\n",
       "       -8.25079300e+04,  6.52719300e+05, -7.47919500e+04,  1.67047060e+05,\n",
       "        5.97551800e+04,  5.99729730e+05, -4.24003750e+05, -2.20878610e+05,\n",
       "        1.17047060e+05,  1.37551800e+04, -5.88750000e+05, -1.78082786e+06,\n",
       "       -5.61142860e+05, -1.17357140e+05,  3.96636360e+05, -8.82179870e+05,\n",
       "        4.83000000e+04,  1.57500000e+05, -1.57774312e+06,  2.88300000e+05,\n",
       "        7.52080500e+04,  2.79000000e+05,  8.02719300e+05, -5.71142860e+05,\n",
       "       -2.42500000e+05, -4.60101690e+05, -3.76406250e+05,  1.62500000e+05,\n",
       "       -2.09646340e+05,  8.60316100e+04,  1.02225688e+06, -3.95084620e+05,\n",
       "       -1.43481010e+05,  1.72256880e+05, -9.64112100e+04, -3.82952940e+05,\n",
       "       -1.66561980e+05, -2.09646340e+05, -1.06270620e+05, -8.12892860e+05,\n",
       "       -1.20010169e+06, -1.66994400e+05,  3.06190090e+05,  3.69820130e+05,\n",
       "       -6.87500000e+04, -5.76651260e+05,  6.24321600e+04, -1.49200000e+05,\n",
       "        2.09895100e+05, -3.80104900e+05, -9.93600400e+05,  7.52080500e+04,\n",
       "        3.02632000e+03, -9.24330700e+04, -1.05964634e+06, -1.20538931e+06,\n",
       "        7.56838240e+05, -3.10878610e+05, -2.99200000e+05, -7.77431200e+04,\n",
       "        2.83190910e+05,  1.09755180e+05, -9.32179870e+05, -1.00244820e+05,\n",
       "        4.47045050e+05, -4.69736800e+04, -1.58082786e+06,  1.25208050e+05,\n",
       "       -9.71142860e+05, -4.58081820e+05, -7.44003750e+05, -1.26010169e+06,\n",
       "       -1.60337330e+05,  1.90625000e+05, -3.10878610e+05, -1.19947960e+06,\n",
       "        8.68857140e+05, -5.42179870e+05, -1.77939190e+05,  9.75518000e+03,\n",
       "       -1.29562330e+05,  3.58943200e+05,  4.25669300e+04, -1.74330700e+04,\n",
       "       -5.16369050e+05, -8.78002440e+05,  2.12560980e+05,  6.13332960e+05,\n",
       "       -2.26072070e+05,  9.20942860e+05, -2.59357140e+05, -1.03420550e+05,\n",
       "        4.51119280e+05,  9.46106900e+04,  8.68857140e+05,  6.53026320e+05,\n",
       "        3.72938000e+03,  2.01192000e+05,  6.07500000e+05, -9.24720000e+04,\n",
       "       -1.58082786e+06,  1.11885714e+06,  6.65365850e+05,  7.09942860e+05,\n",
       "        5.28121210e+05,  7.74872000e+05, -2.02808200e+04,  8.07261800e+04,\n",
       "       -2.97719048e+06,  2.12560980e+05,  1.70516000e+04, -3.88808000e+05,\n",
       "        1.32678947e+06, -2.44125974e+06,  3.63332960e+05, -1.24496640e+05,\n",
       "        2.10231440e+05, -3.59646340e+05,  4.96136750e+05, -7.28256200e+05,\n",
       "        6.70470600e+04,  1.35289900e+04, -1.43247200e+06,  5.39898310e+05,\n",
       "        2.73528990e+05, -4.48880720e+05,  3.18300000e+05,  1.22644828e+06,\n",
       "        4.47045050e+05, -2.81471010e+05, -5.76651260e+05, -5.10909800e+04,\n",
       "        5.61743800e+05,  3.25051600e+05, -9.02448200e+04,  4.03590560e+05,\n",
       "       -4.85390480e+05, -9.24720000e+04,  1.09755180e+05,  6.94610690e+05,\n",
       "        1.41125000e+06,  1.92566930e+05,  1.23189190e+05, -1.91455510e+05,\n",
       "        2.76516000e+04, -1.65555600e+04, -2.12892860e+05, -2.80104900e+05,\n",
       "       -1.51756800e+04,  4.61579450e+05,  1.02566930e+05,  2.12560980e+05,\n",
       "       -3.77743120e+05, -1.20270270e+05, -1.09149664e+06, -2.82507930e+05,\n",
       "        5.45189900e+04, -2.72125974e+06, -1.36471010e+05, -3.57719048e+06,\n",
       "       -4.36701750e+05,  1.51119280e+05, -9.24720000e+04,  3.25551410e+05,\n",
       "        8.87045050e+05,  1.21574800e+05,  2.36031610e+05, -2.93363640e+05,\n",
       "       -4.48880720e+05, -6.45695360e+05,  5.98500000e+05, -2.34407900e+04,\n",
       "       -2.79543860e+05, -8.82179870e+05, -1.50036400e+04,  9.01192000e+05,\n",
       "        9.20942860e+05,  2.26448280e+05,  6.48429800e+04,  5.11192800e+04,\n",
       "        5.07190090e+05,  6.30018190e+05, -4.73551720e+05, -1.06270620e+05,\n",
       "        1.18300000e+05,  1.56559210e+05,  9.32702430e+05, -1.17881470e+05,\n",
       "       -4.96369050e+05,  2.64482800e+04, -6.71142860e+05, -3.59646340e+05,\n",
       "        1.19946317e+06, -5.36830000e+02,  7.09942860e+05,  3.76636360e+05,\n",
       "        1.59121390e+05,  6.87200000e+03, -9.24330700e+04,  6.11423730e+05,\n",
       "        1.34824320e+05, -5.36369050e+05, -9.24330700e+04,  3.34690400e+04,\n",
       "       -2.44625974e+06, -2.44625974e+06,  4.83000000e+04,  2.17820130e+05,\n",
       "        6.52256880e+05, -7.31428600e+04,  1.64560000e+05, -3.59098400e+04,\n",
       "        2.73528990e+05,  1.53026320e+05,  1.40625000e+05,  2.68528990e+05,\n",
       "       -5.16369050e+05,  3.17047060e+05,  2.50800000e+05, -3.14938140e+05,\n",
       "       -5.93750000e+04,  9.75518000e+03,  3.07261800e+04,  1.35208050e+05,\n",
       "       -8.13459490e+05,  1.48429800e+04,  3.04610690e+05,  2.52080500e+04,\n",
       "        5.65051600e+05,  2.55208050e+05, -6.87919500e+04,  4.59942860e+05,\n",
       "        3.56190090e+05, -3.30878610e+05,  1.11250000e+05,  1.43729380e+05,\n",
       "       -1.43825620e+06,  5.13190910e+05,  7.35937500e+04,  3.53630950e+05,\n",
       "       -4.77190480e+05,  7.30412290e+05,  2.20608100e+04,  3.62432160e+05,\n",
       "        4.83000000e+04, -6.97919500e+04, -7.87500000e+04,  2.89000000e+05,\n",
       "        2.75208050e+05,  6.86192000e+05,  1.26448280e+05,  2.12560980e+05,\n",
       "        1.19972973e+06,  8.17438000e+04,  1.34996360e+05,  1.02566930e+05,\n",
       "        1.66559210e+05, -2.55244820e+05,  1.76559210e+05, -3.96411210e+05,\n",
       "        4.58300000e+05,  1.30726180e+05,  2.62560980e+05, -7.23363640e+05,\n",
       "       -9.71142860e+05, -1.66994400e+05,  1.90726180e+05, -5.68991660e+05,\n",
       "        3.84996360e+05, -4.18425200e+05, -1.69944000e+04,  2.81757280e+05,\n",
       "       -3.56616440e+05, -1.66010169e+06,  3.76636360e+05,  2.70625000e+05,\n",
       "        3.09755180e+05,  7.19172140e+05,  5.70939130e+05,  1.16942276e+06,\n",
       "       -2.00536830e+05,  1.14946317e+06, -7.28256200e+05, -2.76913390e+05,\n",
       "        2.92566930e+05, -1.99818100e+04,  9.94286000e+03, -5.71142860e+05,\n",
       "        4.01119280e+05, -2.30878610e+05, -2.96973680e+05,  8.35289900e+04,\n",
       "        2.51008340e+05,  2.09422760e+05,  3.76636360e+05,  2.87152780e+05,\n",
       "        4.54662670e+05, -5.71142860e+05, -7.70451220e+05, -5.77743120e+05,\n",
       "       -5.61142860e+05, -2.57163120e+05,  5.13190910e+05,  3.34380200e+04,\n",
       "        1.02225688e+06,  8.09942860e+05,  3.63528990e+05, -1.53493814e+06,\n",
       "        7.31423730e+05, -3.85762700e+04,  1.48429800e+04,  3.58518990e+05,\n",
       "        2.98500000e+05, -3.30878610e+05,  6.61241680e+05, -1.36809090e+05,\n",
       "        3.54872000e+05, -1.45481010e+05,  3.07261800e+04,  1.56031610e+05,\n",
       "       -2.28878610e+05, -5.77567840e+05,  4.12566930e+05,  9.89090200e+04,\n",
       "        5.65051600e+05,  1.77306120e+05,  3.07261800e+04,  1.09972973e+06,\n",
       "       -3.29878610e+05, -1.51756800e+04,  1.41125000e+06,  4.14319760e+05,\n",
       "        1.09755180e+05,  9.78740260e+05, -3.99736840e+05,  3.64560000e+05,\n",
       "        6.04571140e+05,  4.67261800e+04,  1.63190910e+05, -9.01049000e+04,\n",
       "       -3.92500000e+05, -8.00571400e+04, -2.51125974e+06,  1.81445510e+05,\n",
       "        8.09942860e+05,  8.07261800e+04, -4.43809910e+05,  1.08909020e+05,\n",
       "       -1.26072070e+05, -2.83707320e+05, -3.26973680e+05, -8.85762700e+04,\n",
       "        1.17047060e+05,  2.65051600e+05, -1.70280820e+05, -1.97646340e+05,\n",
       "        3.63528990e+05, -4.43809910e+05,  7.52080500e+04,  4.09755180e+05,\n",
       "       -6.39683900e+04,  3.18300000e+05, -7.91901400e+04,  9.22256880e+05,\n",
       "        4.21574800e+05,  4.18857140e+05,  5.20456140e+05,  7.13528990e+05,\n",
       "        4.63190910e+05, -8.86701750e+05,  1.78201300e+04,  3.64560000e+05,\n",
       "        1.38300000e+05,  1.50516000e+04,  7.33469040e+05,  1.57500000e+05,\n",
       "       -2.98256200e+05, -9.96409440e+05, -1.99818100e+04, -1.03647101e+06,\n",
       "       -4.05084620e+05,  5.11192800e+04, -1.46973680e+05,  7.09109000e+04,\n",
       "        7.06190090e+05, -1.04653096e+06, -9.02448200e+04, -2.30878610e+05,\n",
       "       -4.43809910e+05,  1.29946317e+06,  4.19172140e+05, -2.66994400e+05,\n",
       "        9.37293800e+04,  1.49898310e+05,  4.85578620e+05,  3.99220470e+05,\n",
       "        1.59755180e+05,  2.60129040e+05,  6.61743800e+05,  6.97551800e+04,\n",
       "       -5.17000000e+04,  1.89422760e+05, -1.66994400e+05, -1.19357140e+05,\n",
       "        2.75208050e+05,  1.73927930e+05,  1.02566930e+05, -3.86325000e+03,\n",
       "       -3.44791950e+05,  6.61743800e+05,  1.64842980e+05,  3.96636360e+05,\n",
       "       -8.85762700e+04,  6.64190910e+05, -5.36369050e+05,  3.49755180e+05,\n",
       "        1.03041229e+06,  3.30495580e+05, -1.54400000e+04, -6.36318580e+05,\n",
       "        5.60578620e+05,  1.50516000e+04,  7.22568800e+04, -3.46530960e+05,\n",
       "       -1.19273820e+05,  7.00625000e+05,  4.70456140e+05,  1.23528990e+05,\n",
       "        8.07261800e+04, -2.19504420e+05, -4.36701750e+05,  4.11743800e+05,\n",
       "        5.11920000e+04, -7.80647800e+04, -2.46369050e+05,  1.92566930e+05,\n",
       "        9.75518000e+03,  1.02566930e+05,  6.63241680e+05, -2.98256200e+05,\n",
       "        2.59755180e+05,  1.66031610e+05,  3.84996360e+05, -2.69981810e+05,\n",
       "       -3.77743120e+05, -1.74330700e+04, -3.56616440e+05, -1.02908910e+06,\n",
       "       -4.14479600e+05,  3.25800000e+05,  4.12566930e+05, -5.98709600e+04,\n",
       "       -2.42500000e+05, -1.29200000e+05, -5.03863250e+05, -2.96555560e+05,\n",
       "        6.46095200e+04, -1.19357140e+05, -9.37500000e+03, -4.11986700e+04,\n",
       "        1.68370370e+05, -6.27062000e+03,  1.71125000e+06,  6.48429800e+04,\n",
       "        1.53026320e+05, -9.24330700e+04, -1.60337330e+05, -1.69944000e+04,\n",
       "        3.56190090e+05, -1.49880800e+06,  1.25208050e+05,  1.07500000e+05,\n",
       "       -7.89828950e+05,  2.76636360e+05, -2.76270620e+05, -4.88576270e+05,\n",
       "       -3.03420550e+05, -1.45481010e+05, -7.77685600e+04,  4.03590560e+05,\n",
       "        2.28300000e+05, -2.40104900e+05, -2.35909840e+05,  1.17047060e+05,\n",
       "        6.19352200e+04,  2.44842980e+05,  1.62560980e+05,  1.09121390e+05,\n",
       "        4.72500000e+05,  2.00520400e+05,  2.03026320e+05, -9.95877100e+04,\n",
       "        3.96636360e+05,  5.44609520e+05,  5.32702430e+05,  1.50516000e+04,\n",
       "       -2.45695360e+05,  4.42118530e+05,  3.67045050e+05, -2.59098400e+04,\n",
       "       -1.26072070e+05,  4.82432000e+03,  1.27306120e+05,  6.23348740e+05,\n",
       "       -3.25909840e+05,  6.61241680e+05,  5.63681420e+05, -5.43809910e+05,\n",
       "        5.08871290e+05,  2.87500000e+05,  6.48919470e+05,  9.26192000e+05,\n",
       "        6.39898310e+05,  1.25208050e+05,  3.67047060e+05,  6.06190090e+05,\n",
       "        1.12560980e+05,  4.99463170e+05,  1.03439390e+05,  3.06190090e+05,\n",
       "       -1.38256200e+05,  2.30726180e+05,  1.57500000e+05,  4.18300000e+05,\n",
       "       -2.46973680e+05,  1.62560980e+05,  3.65061860e+05,  4.03026320e+05,\n",
       "        3.96636360e+05,  8.22256880e+05,  1.64560000e+05, -9.51555560e+05,\n",
       "        1.81445510e+05, -2.27719048e+06, -1.17000000e+04,  2.47045050e+05,\n",
       "        1.34996360e+05, -8.60101690e+05, -1.49880800e+06, -3.25906087e+06,\n",
       "       -1.20053683e+06,  1.64560000e+05, -2.66163120e+05,  8.22256880e+05,\n",
       "        6.06610690e+05,  3.62442160e+05,  9.02080500e+04,  2.85208050e+05,\n",
       "       -1.26072070e+05,  1.62560980e+05, -2.20104900e+05, -9.26471010e+05,\n",
       "       -1.05250000e+05,  1.01119280e+05, -1.17567840e+05,  2.19352200e+04,\n",
       "        4.22568800e+04, -2.46973680e+05,  1.64090160e+05, -7.28256200e+05,\n",
       "       -2.09646340e+05,  3.79000000e+05,  5.11423730e+05,  1.66885714e+06,\n",
       "        1.07409016e+06,  2.01119280e+05, -2.47719048e+06,  1.40625000e+05,\n",
       "        1.16409016e+06,  9.89090200e+04, -3.30878610e+05, -1.25011024e+06,\n",
       "       -2.06270620e+05, -2.76270620e+05,  3.13086610e+05,  9.94286000e+03,\n",
       "        3.96636360e+05, -5.14710100e+04, -1.60337330e+05, -2.77431200e+04,\n",
       "        8.40642860e+05, -1.08875832e+06,  5.11423730e+05,  2.64482800e+04,\n",
       "        3.64560000e+05, -3.53904800e+04, -7.41901400e+04,  2.80456140e+05,\n",
       "        1.76448280e+05,  1.64560000e+05, -5.32952940e+05, -3.91128710e+05,\n",
       "       -5.71142860e+05,  6.63190910e+05, -5.86411210e+05, -8.74330700e+04,\n",
       "        1.92566930e+05, -1.66994400e+05,  1.98300000e+05,  2.98500000e+05,\n",
       "       -4.24791950e+05,  3.14872000e+05,  1.65996250e+05,  2.39898310e+05,\n",
       "        1.51119280e+05,  1.06559210e+05,  1.59755180e+05,  8.07261800e+04,\n",
       "        5.82560980e+05,  3.07261800e+04, -5.06994400e+05,  7.52080500e+04,\n",
       "        7.56838240e+05, -1.24496640e+05, -2.20280820e+05,  6.22256880e+05,\n",
       "        4.11423730e+05,  1.09755180e+05, -8.04809090e+05,  2.04304640e+05,\n",
       "        4.04662670e+05, -7.13968390e+05, -1.78082786e+06,  1.05619009e+06,\n",
       "       -3.21080530e+05,  3.74319760e+05, -1.78348600e+04,  4.03026320e+05,\n",
       "       -1.74330700e+04,  2.82560980e+05, -4.11986700e+04,  1.81445510e+05,\n",
       "        6.11423730e+05, -6.62448200e+04,  9.25764240e+05,  3.63190910e+05,\n",
       "       -7.28256200e+05,  2.34824320e+05,  2.79719180e+05,  4.59898310e+05,\n",
       "       -1.51756800e+04, -2.74791950e+05, -5.56065360e+05,  5.19172140e+05,\n",
       "        8.65405100e+04, -1.65555600e+04,  2.79000000e+05, -1.17834860e+05,\n",
       "       -2.93600400e+05, -1.35157020e+05, -1.49112871e+06, -4.41162160e+05,\n",
       "       -9.71142860e+05,  8.68585940e+05,  1.82118530e+05, -2.45695360e+05,\n",
       "        1.07500000e+05,  7.52080500e+04, -5.01102400e+04,  1.69625758e+06,\n",
       "        6.94610690e+05, -1.56899166e+06, -9.93600400e+05, -1.16010169e+06,\n",
       "        2.73528990e+05,  1.53630950e+05,  4.03536600e+04, -1.15906087e+06,\n",
       "       -4.69736800e+04, -3.85762700e+04,  8.07261800e+04, -6.40878610e+05,\n",
       "        9.78740260e+05,  6.56838240e+05,  2.51119280e+05,  6.08098600e+04,\n",
       "       -1.96973680e+05,  6.60249750e+05, -5.60653600e+04,  7.30412290e+05,\n",
       "        4.62560980e+05,  5.73927930e+05,  2.64319760e+05, -2.10421050e+05,\n",
       "        2.99000000e+05,  3.21423730e+05,  4.53026320e+05,  3.67045050e+05,\n",
       "       -4.18425200e+05, -1.31617600e+04,  4.22256880e+05,  8.22256880e+05,\n",
       "       -1.89087861e+06, -6.80057140e+05,  4.11423730e+05,  3.71119280e+05,\n",
       "        3.03026320e+05,  1.75333000e+05,  2.12560980e+05, -1.15906087e+06,\n",
       "       -2.98256200e+05, -4.28256200e+05,  4.94304640e+05,  6.99463170e+05,\n",
       "        2.17820130e+05,  3.50800000e+05,  1.17047060e+05,  5.19172140e+05,\n",
       "       -1.46973680e+05, -3.30878610e+05, -1.13756784e+06,  1.62560980e+05,\n",
       "        4.98897600e+04, -1.91582786e+06, -6.28472200e+04,  5.81008340e+05,\n",
       "        4.53026320e+05,  9.72256880e+05,  1.80800000e+05,  6.52719300e+05,\n",
       "       -8.88750000e+05,  2.63528990e+05, -2.20280820e+05, -1.91162160e+05,\n",
       "        4.94610690e+05,  4.70456140e+05,  1.68370370e+05, -1.63027027e+06,\n",
       "        1.53026320e+05,  3.96636360e+05,  1.63190910e+05,  6.64190910e+05,\n",
       "        1.51119280e+05, -2.09646340e+05, -1.24250000e+06, -1.05389310e+05,\n",
       "       -5.95428860e+05,  8.68585940e+05, -3.69587710e+05,  7.22568800e+04,\n",
       "       -3.00536830e+05, -1.91455510e+05,  9.25764240e+05,  1.64090160e+05,\n",
       "        7.38448280e+05,  4.91918180e+05,  1.57500000e+05, -5.83809910e+05,\n",
       "       -6.89916600e+04, -7.43307000e+03, -1.16555560e+05,  2.11241680e+05,\n",
       "       -1.19357140e+05, -5.16369050e+05, -4.43809910e+05, -6.02892860e+05,\n",
       "        1.92566930e+05, -4.38256200e+05, -1.40577240e+05, -3.19981810e+05,\n",
       "       -1.32761820e+05, -9.37500000e+03,  5.38909020e+05, -2.16555560e+05,\n",
       "       -1.16010169e+06, -5.71142860e+05, -8.81142860e+05, -8.82179870e+05,\n",
       "       -9.01049000e+04, -9.93600400e+05,  1.43630950e+05, -1.01795294e+06,\n",
       "        6.18857140e+05, -8.72179870e+05, -5.37280700e+05,  8.13332960e+05,\n",
       "       -4.43809910e+05, -1.69273820e+05, -3.30878610e+05,  8.65405100e+04,\n",
       "        8.13332960e+05,  6.48429800e+04, -4.21414060e+05, -1.98880720e+05,\n",
       "        1.75271930e+06, -1.54400000e+04, -3.96411210e+05,  3.96636360e+05,\n",
       "        4.88544490e+05,  4.91376810e+05, -2.69981810e+05,  4.48500000e+05,\n",
       "        9.52719300e+05, -5.16369050e+05, -3.30878610e+05, -3.22791950e+05,\n",
       "       -1.66561980e+05,  1.40208050e+05, -7.28256200e+05, -5.16369050e+05,\n",
       "        3.56190090e+05,  1.33329600e+04,  2.02560980e+05,  1.19946317e+06,\n",
       "       -1.46973680e+05,  5.61743800e+05,  1.25208050e+05, -2.56913390e+05,\n",
       "        2.59755180e+05,  3.62432160e+05,  4.98897600e+04, -1.02975025e+06,\n",
       "       -8.52954950e+05,  4.01119280e+05, -6.92738200e+04, -1.19357140e+05,\n",
       "       -2.95695360e+05,  1.43729380e+05,  4.75503360e+05,  3.34380200e+04,\n",
       "        6.31909100e+04, -1.48370732e+06, -1.11455510e+05,  1.75551410e+05,\n",
       "       -1.60337330e+05,  1.64560000e+05, -3.96411210e+05, -3.96411210e+05,\n",
       "       -5.71142860e+05, -5.36369050e+05,  3.94610690e+05, -9.01500000e+05,\n",
       "       -3.80104900e+05, -4.28256200e+05,  3.21185300e+04,  5.43729380e+05,\n",
       "       -2.38758320e+05, -9.01500000e+05,  7.30412290e+05, -7.47919500e+04,\n",
       "        2.21935220e+05, -2.66530960e+05,  2.11241680e+05, -7.89828950e+05,\n",
       "       -2.67297570e+05, -6.80057140e+05,  6.72381800e+04, -7.06809090e+05,\n",
       "       -9.46222220e+05,  1.00119200e+06, -5.77743120e+05, -5.14710100e+04,\n",
       "        4.11423730e+05,  9.73927930e+05,  7.66363600e+04, -8.24448590e+05,\n",
       "        1.31119280e+05, -4.08786100e+04, -2.20280820e+05,  4.03026320e+05,\n",
       "       -4.46973680e+05,  6.40901600e+04, -6.73363640e+05, -6.41056800e+05,\n",
       "       -6.80057140e+05, -3.61700000e+05,  1.12560980e+05, -6.73363640e+05,\n",
       "       -2.30878610e+05, -5.54646340e+05, -1.02466700e+06, -9.02448200e+04])"
      ]
     },
     "execution_count": 46,
     "metadata": {},
     "output_type": "execute_result"
    }
   ],
   "source": [
    "# Apply the 'difference' function to the columns \n",
    "# 'predictedPrice' and 'price' of 'sao_paulo';\n",
    "# use .apply\n",
    "\n",
    "pred_errs =  sao_paulo.apply(difference, 'predictedPrice', 'price')\n",
    "pred_errs"
   ]
  },
  {
   "cell_type": "code",
   "execution_count": 48,
   "metadata": {},
   "outputs": [
    {
     "data": {
      "text/html": [
       "<table border=\"1\" class=\"dataframe\">\n",
       "    <thead>\n",
       "        <tr>\n",
       "            <th>area</th> <th>price</th> <th>predictedPrice</th> <th>errors</th>\n",
       "        </tr>\n",
       "    </thead>\n",
       "    <tbody>\n",
       "        <tr>\n",
       "            <td>230 </td> <td>3.79e+06</td> <td>3.06174e+06   </td> <td>-728256    </td>\n",
       "        </tr>\n",
       "        <tr>\n",
       "            <td>136 </td> <td>1.59e+06</td> <td>1.59373e+06   </td> <td>3729.38    </td>\n",
       "        </tr>\n",
       "        <tr>\n",
       "            <td>136 </td> <td>1.5e+06 </td> <td>1.59373e+06   </td> <td>93729.4    </td>\n",
       "        </tr>\n",
       "        <tr>\n",
       "            <td>122 </td> <td>1.7e+06 </td> <td>1.47972e+06   </td> <td>-220281    </td>\n",
       "        </tr>\n",
       "        <tr>\n",
       "            <td>252 </td> <td>1.35e+06</td> <td>3.32319e+06   </td> <td>1.97319e+06</td>\n",
       "        </tr>\n",
       "        <tr>\n",
       "            <td>136 </td> <td>1.8e+06 </td> <td>1.59373e+06   </td> <td>-206271    </td>\n",
       "        </tr>\n",
       "        <tr>\n",
       "            <td>130 </td> <td>1.4e+06 </td> <td>1.53073e+06   </td> <td>130726     </td>\n",
       "        </tr>\n",
       "        <tr>\n",
       "            <td>130 </td> <td>1.35e+06</td> <td>1.53073e+06   </td> <td>180726     </td>\n",
       "        </tr>\n",
       "        <tr>\n",
       "            <td>186 </td> <td>1.9e+06 </td> <td>2.33041e+06   </td> <td>430412     </td>\n",
       "        </tr>\n",
       "        <tr>\n",
       "            <td>220 </td> <td>1.95e+06</td> <td>2.82226e+06   </td> <td>872257     </td>\n",
       "        </tr>\n",
       "    </tbody>\n",
       "</table>\n",
       "<p>... (990 rows omitted)</p>"
      ],
      "text/plain": [
       "area | price    | predictedPrice | errors\n",
       "230  | 3.79e+06 | 3.06174e+06    | -728256\n",
       "136  | 1.59e+06 | 1.59373e+06    | 3729.38\n",
       "136  | 1.5e+06  | 1.59373e+06    | 93729.4\n",
       "122  | 1.7e+06  | 1.47972e+06    | -220281\n",
       "252  | 1.35e+06 | 3.32319e+06    | 1.97319e+06\n",
       "136  | 1.8e+06  | 1.59373e+06    | -206271\n",
       "130  | 1.4e+06  | 1.53073e+06    | 130726\n",
       "130  | 1.35e+06 | 1.53073e+06    | 180726\n",
       "186  | 1.9e+06  | 2.33041e+06    | 430412\n",
       "220  | 1.95e+06 | 2.82226e+06    | 872257\n",
       "... (990 rows omitted)"
      ]
     },
     "execution_count": 48,
     "metadata": {},
     "output_type": "execute_result"
    }
   ],
   "source": [
    "# Add our column of prediction errors onto the `sao_paulo` \n",
    "# table; call. the new column 'errors'\n",
    "sao_paulo =sao_paulo.with_columns('errors',pred_errs)\n",
    "sao_paulo"
   ]
  },
  {
   "cell_type": "code",
   "execution_count": 49,
   "metadata": {},
   "outputs": [
    {
     "name": "stderr",
     "output_type": "stream",
     "text": [
      "/Users/thao-nhiluu/anaconda3/lib/python3.8/site-packages/datascience/tables.py:5206: UserWarning: FixedFormatter should only be used together with FixedLocator\n",
      "  axis.set_xticklabels(ticks, rotation='vertical')\n"
     ]
    },
    {
     "data": {
      "image/png": "[encoded data removed]",
      "text/plain": [
       "<Figure size 432x288 with 1 Axes>"
      ]
     },
     "metadata": {},
     "output_type": "display_data"
    }
   ],
   "source": [
    "# Create a histogram of the new 'errors' column\n",
    "# in 'sao_paulo' table\n",
    "\n",
    "sao_paulo.hist('errors', bins=np.arange(-2000000, 2000000, 100000))"
   ]
  },
  {
   "cell_type": "markdown",
   "metadata": {},
   "source": [
    "## Grouping by One Column ##"
   ]
  },
  {
   "cell_type": "code",
   "execution_count": 50,
   "metadata": {},
   "outputs": [
    {
     "data": {
      "text/html": [
       "<table border=\"1\" class=\"dataframe\">\n",
       "    <thead>\n",
       "        <tr>\n",
       "            <th>Flavor</th> <th>Color</th> <th>Price</th>\n",
       "        </tr>\n",
       "    </thead>\n",
       "    <tbody>\n",
       "        <tr>\n",
       "            <td>strawberry</td> <td>pink       </td> <td>3.55 </td>\n",
       "        </tr>\n",
       "        <tr>\n",
       "            <td>chocolate </td> <td>light brown</td> <td>4.75 </td>\n",
       "        </tr>\n",
       "        <tr>\n",
       "            <td>chocolate </td> <td>dark brown </td> <td>5.25 </td>\n",
       "        </tr>\n",
       "        <tr>\n",
       "            <td>strawberry</td> <td>pink       </td> <td>5.25 </td>\n",
       "        </tr>\n",
       "        <tr>\n",
       "            <td>chocolate </td> <td>dark brown </td> <td>5.25 </td>\n",
       "        </tr>\n",
       "        <tr>\n",
       "            <td>bubblegum </td> <td>pink       </td> <td>4.75 </td>\n",
       "        </tr>\n",
       "    </tbody>\n",
       "</table>"
      ],
      "text/plain": [
       "Flavor     | Color       | Price\n",
       "strawberry | pink        | 3.55\n",
       "chocolate  | light brown | 4.75\n",
       "chocolate  | dark brown  | 5.25\n",
       "strawberry | pink        | 5.25\n",
       "chocolate  | dark brown  | 5.25\n",
       "bubblegum  | pink        | 4.75"
      ]
     },
     "execution_count": 50,
     "metadata": {},
     "output_type": "execute_result"
    }
   ],
   "source": [
    "# Load the 'cones.csv' file as a table, name this new \n",
    "# table 'cones'\n",
    "cones =  Table.read_table('cones.csv')\n",
    "cones"
   ]
  },
  {
   "cell_type": "code",
   "execution_count": 51,
   "metadata": {},
   "outputs": [
    {
     "data": {
      "text/html": [
       "<table border=\"1\" class=\"dataframe\">\n",
       "    <thead>\n",
       "        <tr>\n",
       "            <th>Flavor</th> <th>count</th>\n",
       "        </tr>\n",
       "    </thead>\n",
       "    <tbody>\n",
       "        <tr>\n",
       "            <td>bubblegum </td> <td>1    </td>\n",
       "        </tr>\n",
       "        <tr>\n",
       "            <td>chocolate </td> <td>3    </td>\n",
       "        </tr>\n",
       "        <tr>\n",
       "            <td>strawberry</td> <td>2    </td>\n",
       "        </tr>\n",
       "    </tbody>\n",
       "</table>"
      ],
      "text/plain": [
       "Flavor     | count\n",
       "bubblegum  | 1\n",
       "chocolate  | 3\n",
       "strawberry | 2"
      ]
     },
     "execution_count": 51,
     "metadata": {},
     "output_type": "execute_result"
    }
   ],
   "source": [
    "# Group the 'cones' table by 'Flavor' using .group method\n",
    "cones.group('Flavor')"
   ]
  },
  {
   "cell_type": "code",
   "execution_count": 52,
   "metadata": {
    "scrolled": true
   },
   "outputs": [
    {
     "data": {
      "text/html": [
       "<table border=\"1\" class=\"dataframe\">\n",
       "    <thead>\n",
       "        <tr>\n",
       "            <th>Flavor</th> <th>Color average</th> <th>Price average</th>\n",
       "        </tr>\n",
       "    </thead>\n",
       "    <tbody>\n",
       "        <tr>\n",
       "            <td>bubblegum </td> <td>             </td> <td>4.75         </td>\n",
       "        </tr>\n",
       "        <tr>\n",
       "            <td>chocolate </td> <td>             </td> <td>5.08333      </td>\n",
       "        </tr>\n",
       "        <tr>\n",
       "            <td>strawberry</td> <td>             </td> <td>4.4          </td>\n",
       "        </tr>\n",
       "    </tbody>\n",
       "</table>"
      ],
      "text/plain": [
       "Flavor     | Color average | Price average\n",
       "bubblegum  |               | 4.75\n",
       "chocolate  |               | 5.08333\n",
       "strawberry |               | 4.4"
      ]
     },
     "execution_count": 52,
     "metadata": {},
     "output_type": "execute_result"
    }
   ],
   "source": [
    "# Group the 'cones' table by 'Flavor' using .group method;\n",
    "# take average of corresponding prices for each category\n",
    "cones.group('Flavor', np.average)"
   ]
  },
  {
   "cell_type": "code",
   "execution_count": 53,
   "metadata": {},
   "outputs": [
    {
     "data": {
      "text/html": [
       "<table border=\"1\" class=\"dataframe\">\n",
       "    <thead>\n",
       "        <tr>\n",
       "            <th>Flavor</th> <th>Price average</th>\n",
       "        </tr>\n",
       "    </thead>\n",
       "    <tbody>\n",
       "        <tr>\n",
       "            <td>bubblegum </td> <td>4.75         </td>\n",
       "        </tr>\n",
       "        <tr>\n",
       "            <td>chocolate </td> <td>5.08333      </td>\n",
       "        </tr>\n",
       "        <tr>\n",
       "            <td>strawberry</td> <td>4.4          </td>\n",
       "        </tr>\n",
       "    </tbody>\n",
       "</table>"
      ],
      "text/plain": [
       "Flavor     | Price average\n",
       "bubblegum  | 4.75\n",
       "chocolate  | 5.08333\n",
       "strawberry | 4.4"
      ]
     },
     "execution_count": 53,
     "metadata": {},
     "output_type": "execute_result"
    }
   ],
   "source": [
    "# Drop the 'Color' column from 'cones'.  Then\n",
    "# Group the 'cones' table by 'Flavor' using .group method;\n",
    "# take average of corresponding prices for each category\n",
    "cones.drop('Color').group('Flavor', np.average)"
   ]
  },
  {
   "cell_type": "code",
   "execution_count": 54,
   "metadata": {},
   "outputs": [
    {
     "data": {
      "text/html": [
       "<table border=\"1\" class=\"dataframe\">\n",
       "    <thead>\n",
       "        <tr>\n",
       "            <th>Flavor</th> <th>Price max</th>\n",
       "        </tr>\n",
       "    </thead>\n",
       "    <tbody>\n",
       "        <tr>\n",
       "            <td>bubblegum </td> <td>4.75     </td>\n",
       "        </tr>\n",
       "        <tr>\n",
       "            <td>chocolate </td> <td>5.25     </td>\n",
       "        </tr>\n",
       "        <tr>\n",
       "            <td>strawberry</td> <td>5.25     </td>\n",
       "        </tr>\n",
       "    </tbody>\n",
       "</table>"
      ],
      "text/plain": [
       "Flavor     | Price max\n",
       "bubblegum  | 4.75\n",
       "chocolate  | 5.25\n",
       "strawberry | 5.25"
      ]
     },
     "execution_count": 54,
     "metadata": {},
     "output_type": "execute_result"
    }
   ],
   "source": [
    "# Drop the 'Color' column from 'cones'.  Then\n",
    "# Group the 'cones' table by 'Flavor' using .group method;\n",
    "# take max of corresponding prices for each category\n",
    "cones.drop('Color').group('Flavor', max)"
   ]
  },
  {
   "cell_type": "markdown",
   "metadata": {},
   "source": [
    "## Grouping by one column: A summary\n",
    "\n",
    "The **group** method aggregates all rows with the same value for a column into a single row in the resulting table.\n",
    "\n",
    "* First argument:      Which column to group by\n",
    "* Second argument:     (Optional) How to combine values.  For example, we can use...\n",
    "    * len - number of grouped values (this is the default)\n",
    "    * list - list of all grouped values\n",
    "    * sum - total of all grouped values"
   ]
  },
  {
   "cell_type": "markdown",
   "metadata": {},
   "source": [
    "## Lists"
   ]
  },
  {
   "cell_type": "markdown",
   "metadata": {},
   "source": [
    "Lists are generic sequences:\n",
    "\n",
    "A list is a sequence of values (just like an array), but the values can all have different types\n",
    "\n",
    "<font size = 4><font color='blue'> [2+3, 'four', Table().with_column('K', [3,4])]]\n",
    "</font></font>\n",
    "\n",
    "* List can be used to create table rows\n",
    "* If you create a table column from a list, it will be converted into an array automatically\n",
    "    "
   ]
  },
  {
   "cell_type": "code",
   "execution_count": 55,
   "metadata": {
    "scrolled": true
   },
   "outputs": [
    {
     "data": {
      "text/html": [
       "<table border=\"1\" class=\"dataframe\">\n",
       "    <thead>\n",
       "        <tr>\n",
       "            <th>Flavor</th> <th>Color</th> <th>Price</th>\n",
       "        </tr>\n",
       "    </thead>\n",
       "    <tbody>\n",
       "        <tr>\n",
       "            <td>strawberry</td> <td>pink       </td> <td>3.55 </td>\n",
       "        </tr>\n",
       "        <tr>\n",
       "            <td>chocolate </td> <td>light brown</td> <td>4.75 </td>\n",
       "        </tr>\n",
       "        <tr>\n",
       "            <td>chocolate </td> <td>dark brown </td> <td>5.25 </td>\n",
       "        </tr>\n",
       "        <tr>\n",
       "            <td>strawberry</td> <td>pink       </td> <td>5.25 </td>\n",
       "        </tr>\n",
       "        <tr>\n",
       "            <td>chocolate </td> <td>dark brown </td> <td>5.25 </td>\n",
       "        </tr>\n",
       "        <tr>\n",
       "            <td>bubblegum </td> <td>pink       </td> <td>4.75 </td>\n",
       "        </tr>\n",
       "    </tbody>\n",
       "</table>"
      ],
      "text/plain": [
       "Flavor     | Color       | Price\n",
       "strawberry | pink        | 3.55\n",
       "chocolate  | light brown | 4.75\n",
       "chocolate  | dark brown  | 5.25\n",
       "strawberry | pink        | 5.25\n",
       "chocolate  | dark brown  | 5.25\n",
       "bubblegum  | pink        | 4.75"
      ]
     },
     "execution_count": 55,
     "metadata": {},
     "output_type": "execute_result"
    }
   ],
   "source": [
    "# Display 'cones' table\n",
    "cones"
   ]
  },
  {
   "cell_type": "code",
   "execution_count": 56,
   "metadata": {},
   "outputs": [
    {
     "data": {
      "text/plain": [
       "[1, 5, 'hello', 5.0]"
      ]
     },
     "execution_count": 56,
     "metadata": {},
     "output_type": "execute_result"
    }
   ],
   "source": [
    "# Write a list; enter elements of list into square brackets\n",
    "[1, 5, 'hello', 5.0]"
   ]
  },
  {
   "cell_type": "code",
   "execution_count": 57,
   "metadata": {},
   "outputs": [],
   "source": [
    "# Assign a list to a name \n",
    "a = [2,4,6]"
   ]
  },
  {
   "cell_type": "code",
   "execution_count": 58,
   "metadata": {},
   "outputs": [
    {
     "data": {
      "text/plain": [
       "4"
      ]
     },
     "execution_count": 58,
     "metadata": {},
     "output_type": "execute_result"
    }
   ],
   "source": [
    "# Find an element of our list by indexing\n",
    "a[1]"
   ]
  },
  {
   "cell_type": "code",
   "execution_count": 59,
   "metadata": {},
   "outputs": [
    {
     "data": {
      "text/plain": [
       "[2, 4, 6, 3, 5, 6]"
      ]
     },
     "execution_count": 59,
     "metadata": {},
     "output_type": "execute_result"
    }
   ],
   "source": [
    "[2,4,6]+[3,5,6]"
   ]
  },
  {
   "cell_type": "markdown",
   "metadata": {},
   "source": [
    "## Grouping by Two Columns ##"
   ]
  },
  {
   "cell_type": "code",
   "execution_count": 60,
   "metadata": {},
   "outputs": [
    {
     "data": {
      "text/html": [
       "<table border=\"1\" class=\"dataframe\">\n",
       "    <thead>\n",
       "        <tr>\n",
       "            <th>PLAYER</th> <th>POSITION</th> <th>TEAM</th> <th>SALARY</th>\n",
       "        </tr>\n",
       "    </thead>\n",
       "    <tbody>\n",
       "        <tr>\n",
       "            <td>Paul Millsap    </td> <td>PF      </td> <td>Atlanta Hawks</td> <td>18.6717</td>\n",
       "        </tr>\n",
       "        <tr>\n",
       "            <td>Al Horford      </td> <td>C       </td> <td>Atlanta Hawks</td> <td>12     </td>\n",
       "        </tr>\n",
       "        <tr>\n",
       "            <td>Tiago Splitter  </td> <td>C       </td> <td>Atlanta Hawks</td> <td>9.75625</td>\n",
       "        </tr>\n",
       "        <tr>\n",
       "            <td>Jeff Teague     </td> <td>PG      </td> <td>Atlanta Hawks</td> <td>8      </td>\n",
       "        </tr>\n",
       "        <tr>\n",
       "            <td>Kyle Korver     </td> <td>SG      </td> <td>Atlanta Hawks</td> <td>5.74648</td>\n",
       "        </tr>\n",
       "        <tr>\n",
       "            <td>Thabo Sefolosha </td> <td>SF      </td> <td>Atlanta Hawks</td> <td>4      </td>\n",
       "        </tr>\n",
       "        <tr>\n",
       "            <td>Mike Scott      </td> <td>PF      </td> <td>Atlanta Hawks</td> <td>3.33333</td>\n",
       "        </tr>\n",
       "        <tr>\n",
       "            <td>Kent Bazemore   </td> <td>SF      </td> <td>Atlanta Hawks</td> <td>2      </td>\n",
       "        </tr>\n",
       "        <tr>\n",
       "            <td>Dennis Schroder </td> <td>PG      </td> <td>Atlanta Hawks</td> <td>1.7634 </td>\n",
       "        </tr>\n",
       "        <tr>\n",
       "            <td>Tim Hardaway Jr.</td> <td>SG      </td> <td>Atlanta Hawks</td> <td>1.30452</td>\n",
       "        </tr>\n",
       "    </tbody>\n",
       "</table>\n",
       "<p>... (407 rows omitted)</p>"
      ],
      "text/plain": [
       "PLAYER           | POSITION | TEAM          | SALARY\n",
       "Paul Millsap     | PF       | Atlanta Hawks | 18.6717\n",
       "Al Horford       | C        | Atlanta Hawks | 12\n",
       "Tiago Splitter   | C        | Atlanta Hawks | 9.75625\n",
       "Jeff Teague      | PG       | Atlanta Hawks | 8\n",
       "Kyle Korver      | SG       | Atlanta Hawks | 5.74648\n",
       "Thabo Sefolosha  | SF       | Atlanta Hawks | 4\n",
       "Mike Scott       | PF       | Atlanta Hawks | 3.33333\n",
       "Kent Bazemore    | SF       | Atlanta Hawks | 2\n",
       "Dennis Schroder  | PG       | Atlanta Hawks | 1.7634\n",
       "Tim Hardaway Jr. | SG       | Atlanta Hawks | 1.30452\n",
       "... (407 rows omitted)"
      ]
     },
     "execution_count": 60,
     "metadata": {},
     "output_type": "execute_result"
    }
   ],
   "source": [
    "# Load the 'nba.salaries.csv' table, name it 'nba'\n",
    "# Relabel the last column 'SALARY'\n",
    "nba= Table.read_table('nba_salaries.csv').relabeled(3, 'SALARY')\n",
    "nba"
   ]
  },
  {
   "cell_type": "code",
   "execution_count": 61,
   "metadata": {},
   "outputs": [
    {
     "data": {
      "text/html": [
       "<table border=\"1\" class=\"dataframe\">\n",
       "    <thead>\n",
       "        <tr>\n",
       "            <th>POSITION</th> <th>count</th>\n",
       "        </tr>\n",
       "    </thead>\n",
       "    <tbody>\n",
       "        <tr>\n",
       "            <td>C       </td> <td>69   </td>\n",
       "        </tr>\n",
       "        <tr>\n",
       "            <td>PF      </td> <td>85   </td>\n",
       "        </tr>\n",
       "        <tr>\n",
       "            <td>PG      </td> <td>85   </td>\n",
       "        </tr>\n",
       "        <tr>\n",
       "            <td>SF      </td> <td>82   </td>\n",
       "        </tr>\n",
       "        <tr>\n",
       "            <td>SG      </td> <td>96   </td>\n",
       "        </tr>\n",
       "    </tbody>\n",
       "</table>"
      ],
      "text/plain": [
       "POSITION | count\n",
       "C        | 69\n",
       "PF       | 85\n",
       "PG       | 85\n",
       "SF       | 82\n",
       "SG       | 96"
      ]
     },
     "execution_count": 61,
     "metadata": {},
     "output_type": "execute_result"
    }
   ],
   "source": [
    "# Group the nba table by 'POSITION'\n",
    "nba.group('POSITION')"
   ]
  },
  {
   "cell_type": "code",
   "execution_count": 62,
   "metadata": {},
   "outputs": [
    {
     "name": "stderr",
     "output_type": "stream",
     "text": [
      "/Users/thao-nhiluu/anaconda3/lib/python3.8/site-packages/datascience/tables.py:920: VisibleDeprecationWarning: Creating an ndarray from ragged nested sequences (which is a list-or-tuple of lists-or-tuples-or ndarrays with different lengths or shapes) is deprecated. If you meant to do this, you must specify 'dtype=object' when creating the ndarray\n",
      "  values = np.array(tuple(values))\n"
     ]
    },
    {
     "data": {
      "text/html": [
       "<table border=\"1\" class=\"dataframe\">\n",
       "    <thead>\n",
       "        <tr>\n",
       "            <th>POSITION</th> <th>TEAM</th> <th>count</th>\n",
       "        </tr>\n",
       "    </thead>\n",
       "    <tbody>\n",
       "        <tr>\n",
       "            <td>C       </td> <td>Atlanta Hawks         </td> <td>3    </td>\n",
       "        </tr>\n",
       "        <tr>\n",
       "            <td>C       </td> <td>Boston Celtics        </td> <td>3    </td>\n",
       "        </tr>\n",
       "        <tr>\n",
       "            <td>C       </td> <td>Brooklyn Nets         </td> <td>1    </td>\n",
       "        </tr>\n",
       "        <tr>\n",
       "            <td>C       </td> <td>Charlotte Hornets     </td> <td>3    </td>\n",
       "        </tr>\n",
       "        <tr>\n",
       "            <td>C       </td> <td>Chicago Bulls         </td> <td>2    </td>\n",
       "        </tr>\n",
       "        <tr>\n",
       "            <td>C       </td> <td>Cleveland Cavaliers   </td> <td>4    </td>\n",
       "        </tr>\n",
       "        <tr>\n",
       "            <td>C       </td> <td>Dallas Mavericks      </td> <td>2    </td>\n",
       "        </tr>\n",
       "        <tr>\n",
       "            <td>C       </td> <td>Denver Nuggets        </td> <td>4    </td>\n",
       "        </tr>\n",
       "        <tr>\n",
       "            <td>C       </td> <td>Detroit Pistons       </td> <td>3    </td>\n",
       "        </tr>\n",
       "        <tr>\n",
       "            <td>C       </td> <td>Golden State Warriors </td> <td>3    </td>\n",
       "        </tr>\n",
       "        <tr>\n",
       "            <td>C       </td> <td>Houston Rockets       </td> <td>1    </td>\n",
       "        </tr>\n",
       "        <tr>\n",
       "            <td>C       </td> <td>Indiana Pacers        </td> <td>2    </td>\n",
       "        </tr>\n",
       "        <tr>\n",
       "            <td>C       </td> <td>Los Angeles Clippers  </td> <td>1    </td>\n",
       "        </tr>\n",
       "        <tr>\n",
       "            <td>C       </td> <td>Los Angeles Lakers    </td> <td>2    </td>\n",
       "        </tr>\n",
       "        <tr>\n",
       "            <td>C       </td> <td>Memphis Grizzlies     </td> <td>2    </td>\n",
       "        </tr>\n",
       "        <tr>\n",
       "            <td>C       </td> <td>Milwaukee Bucks       </td> <td>1    </td>\n",
       "        </tr>\n",
       "        <tr>\n",
       "            <td>C       </td> <td>Minnesota Timberwolves</td> <td>3    </td>\n",
       "        </tr>\n",
       "        <tr>\n",
       "            <td>C       </td> <td>New Orleans Pelicans  </td> <td>3    </td>\n",
       "        </tr>\n",
       "        <tr>\n",
       "            <td>C       </td> <td>New York Knicks       </td> <td>1    </td>\n",
       "        </tr>\n",
       "        <tr>\n",
       "            <td>C       </td> <td>Oklahoma City Thunder </td> <td>2    </td>\n",
       "        </tr>\n",
       "        <tr>\n",
       "            <td>C       </td> <td>Orlando Magic         </td> <td>1    </td>\n",
       "        </tr>\n",
       "        <tr>\n",
       "            <td>C       </td> <td>Philadelphia 76ers    </td> <td>2    </td>\n",
       "        </tr>\n",
       "        <tr>\n",
       "            <td>C       </td> <td>Phoenix Suns          </td> <td>2    </td>\n",
       "        </tr>\n",
       "        <tr>\n",
       "            <td>C       </td> <td>Portland Trail Blazers</td> <td>3    </td>\n",
       "        </tr>\n",
       "        <tr>\n",
       "            <td>C       </td> <td>Sacramento Kings      </td> <td>3    </td>\n",
       "        </tr>\n",
       "        <tr>\n",
       "            <td>C       </td> <td>San Antonio Spurs     </td> <td>3    </td>\n",
       "        </tr>\n",
       "        <tr>\n",
       "            <td>C       </td> <td>Toronto Raptors       </td> <td>3    </td>\n",
       "        </tr>\n",
       "        <tr>\n",
       "            <td>C       </td> <td>Utah Jazz             </td> <td>3    </td>\n",
       "        </tr>\n",
       "        <tr>\n",
       "            <td>C       </td> <td>Washington Wizards    </td> <td>3    </td>\n",
       "        </tr>\n",
       "        <tr>\n",
       "            <td>PF      </td> <td>Atlanta Hawks         </td> <td>2    </td>\n",
       "        </tr>\n",
       "        <tr>\n",
       "            <td>PF      </td> <td>Boston Celtics        </td> <td>2    </td>\n",
       "        </tr>\n",
       "        <tr>\n",
       "            <td>PF      </td> <td>Brooklyn Nets         </td> <td>3    </td>\n",
       "        </tr>\n",
       "        <tr>\n",
       "            <td>PF      </td> <td>Charlotte Hornets     </td> <td>3    </td>\n",
       "        </tr>\n",
       "        <tr>\n",
       "            <td>PF      </td> <td>Chicago Bulls         </td> <td>2    </td>\n",
       "        </tr>\n",
       "        <tr>\n",
       "            <td>PF      </td> <td>Cleveland Cavaliers   </td> <td>1    </td>\n",
       "        </tr>\n",
       "        <tr>\n",
       "            <td>PF      </td> <td>Dallas Mavericks      </td> <td>2    </td>\n",
       "        </tr>\n",
       "        <tr>\n",
       "            <td>PF      </td> <td>Denver Nuggets        </td> <td>2    </td>\n",
       "        </tr>\n",
       "        <tr>\n",
       "            <td>PF      </td> <td>Golden State Warriors </td> <td>3    </td>\n",
       "        </tr>\n",
       "        <tr>\n",
       "            <td>PF      </td> <td>Houston Rockets       </td> <td>4    </td>\n",
       "        </tr>\n",
       "        <tr>\n",
       "            <td>PF      </td> <td>Indiana Pacers        </td> <td>3    </td>\n",
       "        </tr>\n",
       "        <tr>\n",
       "            <td>PF      </td> <td>Los Angeles Clippers  </td> <td>2    </td>\n",
       "        </tr>\n",
       "        <tr>\n",
       "            <td>PF      </td> <td>Los Angeles Lakers    </td> <td>4    </td>\n",
       "        </tr>\n",
       "        <tr>\n",
       "            <td>PF      </td> <td>Memphis Grizzlies     </td> <td>7    </td>\n",
       "        </tr>\n",
       "        <tr>\n",
       "            <td>PF      </td> <td>Miami Heat            </td> <td>3    </td>\n",
       "        </tr>\n",
       "        <tr>\n",
       "            <td>PF      </td> <td>Milwaukee Bucks       </td> <td>2    </td>\n",
       "        </tr>\n",
       "        <tr>\n",
       "            <td>PF      </td> <td>Minnesota Timberwolves</td> <td>3    </td>\n",
       "        </tr>\n",
       "        <tr>\n",
       "            <td>PF      </td> <td>New Orleans Pelicans  </td> <td>3    </td>\n",
       "        </tr>\n",
       "        <tr>\n",
       "            <td>PF      </td> <td>New York Knicks       </td> <td>4    </td>\n",
       "        </tr>\n",
       "        <tr>\n",
       "            <td>PF      </td> <td>Oklahoma City Thunder </td> <td>3    </td>\n",
       "        </tr>\n",
       "        <tr>\n",
       "            <td>PF      </td> <td>Orlando Magic         </td> <td>5    </td>\n",
       "        </tr>\n",
       "        <tr>\n",
       "            <td>PF      </td> <td>Philadelphia 76ers    </td> <td>4    </td>\n",
       "        </tr>\n",
       "        <tr>\n",
       "            <td>PF      </td> <td>Phoenix Suns          </td> <td>3    </td>\n",
       "        </tr>\n",
       "        <tr>\n",
       "            <td>PF      </td> <td>Portland Trail Blazers</td> <td>3    </td>\n",
       "        </tr>\n",
       "        <tr>\n",
       "            <td>PF      </td> <td>San Antonio Spurs     </td> <td>2    </td>\n",
       "        </tr>\n",
       "        <tr>\n",
       "            <td>PF      </td> <td>Toronto Raptors       </td> <td>4    </td>\n",
       "        </tr>\n",
       "        <tr>\n",
       "            <td>PF      </td> <td>Utah Jazz             </td> <td>3    </td>\n",
       "        </tr>\n",
       "        <tr>\n",
       "            <td>PF      </td> <td>Washington Wizards    </td> <td>3    </td>\n",
       "        </tr>\n",
       "        <tr>\n",
       "            <td>PG      </td> <td>Atlanta Hawks         </td> <td>2    </td>\n",
       "        </tr>\n",
       "        <tr>\n",
       "            <td>PG      </td> <td>Boston Celtics        </td> <td>4    </td>\n",
       "        </tr>\n",
       "        <tr>\n",
       "            <td>PG      </td> <td>Brooklyn Nets         </td> <td>2    </td>\n",
       "        </tr>\n",
       "        <tr>\n",
       "            <td>PG      </td> <td>Charlotte Hornets     </td> <td>4    </td>\n",
       "        </tr>\n",
       "        <tr>\n",
       "            <td>PG      </td> <td>Chicago Bulls         </td> <td>2    </td>\n",
       "        </tr>\n",
       "        <tr>\n",
       "            <td>PG      </td> <td>Cleveland Cavaliers   </td> <td>3    </td>\n",
       "        </tr>\n",
       "        <tr>\n",
       "            <td>PG      </td> <td>Dallas Mavericks      </td> <td>4    </td>\n",
       "        </tr>\n",
       "        <tr>\n",
       "            <td>PG      </td> <td>Denver Nuggets        </td> <td>2    </td>\n",
       "        </tr>\n",
       "        <tr>\n",
       "            <td>PG      </td> <td>Detroit Pistons       </td> <td>1    </td>\n",
       "        </tr>\n",
       "        <tr>\n",
       "            <td>PG      </td> <td>Golden State Warriors </td> <td>2    </td>\n",
       "        </tr>\n",
       "        <tr>\n",
       "            <td>PG      </td> <td>Houston Rockets       </td> <td>2    </td>\n",
       "        </tr>\n",
       "        <tr>\n",
       "            <td>PG      </td> <td>Indiana Pacers        </td> <td>2    </td>\n",
       "        </tr>\n",
       "        <tr>\n",
       "            <td>PG      </td> <td>Los Angeles Clippers  </td> <td>3    </td>\n",
       "        </tr>\n",
       "        <tr>\n",
       "            <td>PG      </td> <td>Los Angeles Lakers    </td> <td>1    </td>\n",
       "        </tr>\n",
       "        <tr>\n",
       "            <td>PG      </td> <td>Memphis Grizzlies     </td> <td>4    </td>\n",
       "        </tr>\n",
       "        <tr>\n",
       "            <td>PG      </td> <td>Miami Heat            </td> <td>2    </td>\n",
       "        </tr>\n",
       "        <tr>\n",
       "            <td>PG      </td> <td>Milwaukee Bucks       </td> <td>4    </td>\n",
       "        </tr>\n",
       "        <tr>\n",
       "            <td>PG      </td> <td>Minnesota Timberwolves</td> <td>3    </td>\n",
       "        </tr>\n",
       "        <tr>\n",
       "            <td>PG      </td> <td>New Orleans Pelicans  </td> <td>4    </td>\n",
       "        </tr>\n",
       "        <tr>\n",
       "            <td>PG      </td> <td>New York Knicks       </td> <td>3    </td>\n",
       "        </tr>\n",
       "        <tr>\n",
       "            <td>PG      </td> <td>Oklahoma City Thunder </td> <td>3    </td>\n",
       "        </tr>\n",
       "        <tr>\n",
       "            <td>PG      </td> <td>Orlando Magic         </td> <td>4    </td>\n",
       "        </tr>\n",
       "        <tr>\n",
       "            <td>PG      </td> <td>Philadelphia 76ers    </td> <td>1    </td>\n",
       "        </tr>\n",
       "        <tr>\n",
       "            <td>PG      </td> <td>Phoenix Suns          </td> <td>4    </td>\n",
       "        </tr>\n",
       "        <tr>\n",
       "            <td>PG      </td> <td>Portland Trail Blazers</td> <td>1    </td>\n",
       "        </tr>\n",
       "        <tr>\n",
       "            <td>PG      </td> <td>Sacramento Kings      </td> <td>2    </td>\n",
       "        </tr>\n",
       "        <tr>\n",
       "            <td>PG      </td> <td>San Antonio Spurs     </td> <td>3    </td>\n",
       "        </tr>\n",
       "        <tr>\n",
       "            <td>PG      </td> <td>Toronto Raptors       </td> <td>5    </td>\n",
       "        </tr>\n",
       "        <tr>\n",
       "            <td>PG      </td> <td>Utah Jazz             </td> <td>5    </td>\n",
       "        </tr>\n",
       "        <tr>\n",
       "            <td>PG      </td> <td>Washington Wizards    </td> <td>3    </td>\n",
       "        </tr>\n",
       "        <tr>\n",
       "            <td>SF      </td> <td>Atlanta Hawks         </td> <td>2    </td>\n",
       "        </tr>\n",
       "        <tr>\n",
       "            <td>SF      </td> <td>Boston Celtics        </td> <td>2    </td>\n",
       "        </tr>\n",
       "        <tr>\n",
       "            <td>SF      </td> <td>Brooklyn Nets         </td> <td>2    </td>\n",
       "        </tr>\n",
       "        <tr>\n",
       "            <td>SF      </td> <td>Charlotte Hornets     </td> <td>2    </td>\n",
       "        </tr>\n",
       "        <tr>\n",
       "            <td>SF      </td> <td>Chicago Bulls         </td> <td>2    </td>\n",
       "        </tr>\n",
       "        <tr>\n",
       "            <td>SF      </td> <td>Cleveland Cavaliers   </td> <td>1    </td>\n",
       "        </tr>\n",
       "        <tr>\n",
       "            <td>SF      </td> <td>Dallas Mavericks      </td> <td>1    </td>\n",
       "        </tr>\n",
       "        <tr>\n",
       "            <td>SF      </td> <td>Denver Nuggets        </td> <td>4    </td>\n",
       "        </tr>\n",
       "        <tr>\n",
       "            <td>SF      </td> <td>Detroit Pistons       </td> <td>4    </td>\n",
       "        </tr>\n",
       "        <tr>\n",
       "            <td>SF      </td> <td>Golden State Warriors </td> <td>4    </td>\n",
       "        </tr>\n",
       "        <tr>\n",
       "            <td>SF      </td> <td>Houston Rockets       </td> <td>2    </td>\n",
       "        </tr>\n",
       "        <tr>\n",
       "            <td>SF      </td> <td>Indiana Pacers        </td> <td>4    </td>\n",
       "        </tr>\n",
       "        <tr>\n",
       "            <td>SF      </td> <td>Los Angeles Clippers  </td> <td>2    </td>\n",
       "        </tr>\n",
       "        <tr>\n",
       "            <td>SF      </td> <td>Los Angeles Lakers    </td> <td>3    </td>\n",
       "        </tr>\n",
       "        <tr>\n",
       "            <td>SF      </td> <td>Memphis Grizzlies     </td> <td>4    </td>\n",
       "        </tr>\n",
       "        <tr>\n",
       "            <td>SF      </td> <td>Miami Heat            </td> <td>4    </td>\n",
       "        </tr>\n",
       "        <tr>\n",
       "            <td>SF      </td> <td>Milwaukee Bucks       </td> <td>3    </td>\n",
       "        </tr>\n",
       "        <tr>\n",
       "            <td>SF      </td> <td>Minnesota Timberwolves</td> <td>2    </td>\n",
       "        </tr>\n",
       "        <tr>\n",
       "            <td>SF      </td> <td>New Orleans Pelicans  </td> <td>3    </td>\n",
       "        </tr>\n",
       "        <tr>\n",
       "            <td>SF      </td> <td>New York Knicks       </td> <td>3    </td>\n",
       "        </tr>\n",
       "        <tr>\n",
       "            <td>SF      </td> <td>Oklahoma City Thunder </td> <td>4    </td>\n",
       "        </tr>\n",
       "        <tr>\n",
       "            <td>SF      </td> <td>Orlando Magic         </td> <td>1    </td>\n",
       "        </tr>\n",
       "        <tr>\n",
       "            <td>SF      </td> <td>Philadelphia 76ers    </td> <td>3    </td>\n",
       "        </tr>\n",
       "        <tr>\n",
       "            <td>SF      </td> <td>Phoenix Suns          </td> <td>2    </td>\n",
       "        </tr>\n",
       "        <tr>\n",
       "            <td>SF      </td> <td>Portland Trail Blazers</td> <td>2    </td>\n",
       "        </tr>\n",
       "        <tr>\n",
       "            <td>SF      </td> <td>Sacramento Kings      </td> <td>3    </td>\n",
       "        </tr>\n",
       "        <tr>\n",
       "            <td>SF      </td> <td>San Antonio Spurs     </td> <td>3    </td>\n",
       "        </tr>\n",
       "        <tr>\n",
       "            <td>SF      </td> <td>Toronto Raptors       </td> <td>3    </td>\n",
       "        </tr>\n",
       "        <tr>\n",
       "            <td>SF      </td> <td>Utah Jazz             </td> <td>3    </td>\n",
       "        </tr>\n",
       "        <tr>\n",
       "            <td>SF      </td> <td>Washington Wizards    </td> <td>4    </td>\n",
       "        </tr>\n",
       "        <tr>\n",
       "            <td>SG      </td> <td>Atlanta Hawks         </td> <td>5    </td>\n",
       "        </tr>\n",
       "        <tr>\n",
       "            <td>SG      </td> <td>Boston Celtics        </td> <td>4    </td>\n",
       "        </tr>\n",
       "        <tr>\n",
       "            <td>SG      </td> <td>Brooklyn Nets         </td> <td>5    </td>\n",
       "        </tr>\n",
       "        <tr>\n",
       "            <td>SG      </td> <td>Charlotte Hornets     </td> <td>6    </td>\n",
       "        </tr>\n",
       "        <tr>\n",
       "            <td>SG      </td> <td>Chicago Bulls         </td> <td>4    </td>\n",
       "        </tr>\n",
       "        <tr>\n",
       "            <td>SG      </td> <td>Cleveland Cavaliers   </td> <td>1    </td>\n",
       "        </tr>\n",
       "        <tr>\n",
       "            <td>SG      </td> <td>Dallas Mavericks      </td> <td>2    </td>\n",
       "        </tr>\n",
       "        <tr>\n",
       "            <td>SG      </td> <td>Denver Nuggets        </td> <td>2    </td>\n",
       "        </tr>\n",
       "        <tr>\n",
       "            <td>SG      </td> <td>Detroit Pistons       </td> <td>2    </td>\n",
       "        </tr>\n",
       "        <tr>\n",
       "            <td>SG      </td> <td>Golden State Warriors </td> <td>2    </td>\n",
       "        </tr>\n",
       "        <tr>\n",
       "            <td>SG      </td> <td>Houston Rockets       </td> <td>3    </td>\n",
       "        </tr>\n",
       "        <tr>\n",
       "            <td>SG      </td> <td>Indiana Pacers        </td> <td>2    </td>\n",
       "        </tr>\n",
       "        <tr>\n",
       "            <td>SG      </td> <td>Los Angeles Clippers  </td> <td>5    </td>\n",
       "        </tr>\n",
       "        <tr>\n",
       "            <td>SG      </td> <td>Los Angeles Lakers    </td> <td>1    </td>\n",
       "        </tr>\n",
       "        <tr>\n",
       "            <td>SG      </td> <td>Memphis Grizzlies     </td> <td>4    </td>\n",
       "        </tr>\n",
       "        <tr>\n",
       "            <td>SG      </td> <td>Miami Heat            </td> <td>3    </td>\n",
       "        </tr>\n",
       "        <tr>\n",
       "            <td>SG      </td> <td>Milwaukee Bucks       </td> <td>3    </td>\n",
       "        </tr>\n",
       "        <tr>\n",
       "            <td>SG      </td> <td>Minnesota Timberwolves</td> <td>2    </td>\n",
       "        </tr>\n",
       "        <tr>\n",
       "            <td>SG      </td> <td>New Orleans Pelicans  </td> <td>3    </td>\n",
       "        </tr>\n",
       "        <tr>\n",
       "            <td>SG      </td> <td>New York Knicks       </td> <td>2    </td>\n",
       "        </tr>\n",
       "        <tr>\n",
       "            <td>SG      </td> <td>Oklahoma City Thunder </td> <td>4    </td>\n",
       "        </tr>\n",
       "        <tr>\n",
       "            <td>SG      </td> <td>Orlando Magic         </td> <td>3    </td>\n",
       "        </tr>\n",
       "        <tr>\n",
       "            <td>SG      </td> <td>Philadelphia 76ers    </td> <td>3    </td>\n",
       "        </tr>\n",
       "        <tr>\n",
       "            <td>SG      </td> <td>Phoenix Suns          </td> <td>6    </td>\n",
       "        </tr>\n",
       "        <tr>\n",
       "            <td>SG      </td> <td>Portland Trail Blazers</td> <td>5    </td>\n",
       "        </tr>\n",
       "        <tr>\n",
       "            <td>SG      </td> <td>Sacramento Kings      </td> <td>3    </td>\n",
       "        </tr>\n",
       "        <tr>\n",
       "            <td>SG      </td> <td>San Antonio Spurs     </td> <td>2    </td>\n",
       "        </tr>\n",
       "        <tr>\n",
       "            <td>SG      </td> <td>Toronto Raptors       </td> <td>2    </td>\n",
       "        </tr>\n",
       "        <tr>\n",
       "            <td>SG      </td> <td>Utah Jazz             </td> <td>3    </td>\n",
       "        </tr>\n",
       "        <tr>\n",
       "            <td>SG      </td> <td>Washington Wizards    </td> <td>4    </td>\n",
       "        </tr>\n",
       "    </tbody>\n",
       "</table>"
      ],
      "text/plain": [
       "<IPython.core.display.HTML object>"
      ]
     },
     "metadata": {},
     "output_type": "display_data"
    }
   ],
   "source": [
    "# Group the 'nba' table by columns 'POSITION' and 'TEAM'\n",
    "nba.group(['POSITION','TEAM']).show()"
   ]
  },
  {
   "cell_type": "code",
   "execution_count": 63,
   "metadata": {},
   "outputs": [
    {
     "data": {
      "text/html": [
       "<table border=\"1\" class=\"dataframe\">\n",
       "    <thead>\n",
       "        <tr>\n",
       "            <th>POSITION</th> <th>TEAM</th> <th>count</th>\n",
       "        </tr>\n",
       "    </thead>\n",
       "    <tbody>\n",
       "        <tr>\n",
       "            <td>C       </td> <td>Atlanta Hawks </td> <td>3    </td>\n",
       "        </tr>\n",
       "        <tr>\n",
       "            <td>PF      </td> <td>Atlanta Hawks </td> <td>2    </td>\n",
       "        </tr>\n",
       "        <tr>\n",
       "            <td>PG      </td> <td>Atlanta Hawks </td> <td>2    </td>\n",
       "        </tr>\n",
       "        <tr>\n",
       "            <td>SF      </td> <td>Atlanta Hawks </td> <td>2    </td>\n",
       "        </tr>\n",
       "        <tr>\n",
       "            <td>SG      </td> <td>Atlanta Hawks </td> <td>5    </td>\n",
       "        </tr>\n",
       "        <tr>\n",
       "            <td>C       </td> <td>Boston Celtics</td> <td>3    </td>\n",
       "        </tr>\n",
       "        <tr>\n",
       "            <td>PF      </td> <td>Boston Celtics</td> <td>2    </td>\n",
       "        </tr>\n",
       "        <tr>\n",
       "            <td>PG      </td> <td>Boston Celtics</td> <td>4    </td>\n",
       "        </tr>\n",
       "        <tr>\n",
       "            <td>SF      </td> <td>Boston Celtics</td> <td>2    </td>\n",
       "        </tr>\n",
       "        <tr>\n",
       "            <td>SG      </td> <td>Boston Celtics</td> <td>4    </td>\n",
       "        </tr>\n",
       "    </tbody>\n",
       "</table>\n",
       "<p>... (137 rows omitted)</p>"
      ],
      "text/plain": [
       "POSITION | TEAM           | count\n",
       "C        | Atlanta Hawks  | 3\n",
       "PF       | Atlanta Hawks  | 2\n",
       "PG       | Atlanta Hawks  | 2\n",
       "SF       | Atlanta Hawks  | 2\n",
       "SG       | Atlanta Hawks  | 5\n",
       "C        | Boston Celtics | 3\n",
       "PF       | Boston Celtics | 2\n",
       "PG       | Boston Celtics | 4\n",
       "SF       | Boston Celtics | 2\n",
       "SG       | Boston Celtics | 4\n",
       "... (137 rows omitted)"
      ]
     },
     "execution_count": 63,
     "metadata": {},
     "output_type": "execute_result"
    }
   ],
   "source": [
    "# Group the 'nba' table by columns 'POSITION' and 'TEAM'; \n",
    "# sort by 'TEAM'\n",
    "nba.group(['POSITION','TEAM']).sort('TEAM')"
   ]
  },
  {
   "cell_type": "code",
   "execution_count": 64,
   "metadata": {},
   "outputs": [
    {
     "data": {
      "text/html": [
       "<table border=\"1\" class=\"dataframe\">\n",
       "    <thead>\n",
       "        <tr>\n",
       "            <th>POSITION</th> <th>TEAM</th> <th>PLAYER average</th> <th>SALARY average</th>\n",
       "        </tr>\n",
       "    </thead>\n",
       "    <tbody>\n",
       "        <tr>\n",
       "            <td>C       </td> <td>Atlanta Hawks </td> <td>              </td> <td>7.58542       </td>\n",
       "        </tr>\n",
       "        <tr>\n",
       "            <td>PF      </td> <td>Atlanta Hawks </td> <td>              </td> <td>11.0025       </td>\n",
       "        </tr>\n",
       "        <tr>\n",
       "            <td>PG      </td> <td>Atlanta Hawks </td> <td>              </td> <td>4.8817        </td>\n",
       "        </tr>\n",
       "        <tr>\n",
       "            <td>SF      </td> <td>Atlanta Hawks </td> <td>              </td> <td>3             </td>\n",
       "        </tr>\n",
       "        <tr>\n",
       "            <td>SG      </td> <td>Atlanta Hawks </td> <td>              </td> <td>1.80969       </td>\n",
       "        </tr>\n",
       "        <tr>\n",
       "            <td>C       </td> <td>Boston Celtics</td> <td>              </td> <td>2.45046       </td>\n",
       "        </tr>\n",
       "        <tr>\n",
       "            <td>PF      </td> <td>Boston Celtics</td> <td>              </td> <td>3.08548       </td>\n",
       "        </tr>\n",
       "        <tr>\n",
       "            <td>PG      </td> <td>Boston Celtics</td> <td>              </td> <td>4.97465       </td>\n",
       "        </tr>\n",
       "        <tr>\n",
       "            <td>SF      </td> <td>Boston Celtics</td> <td>              </td> <td>4.41716       </td>\n",
       "        </tr>\n",
       "        <tr>\n",
       "            <td>SG      </td> <td>Boston Celtics</td> <td>              </td> <td>2.00755       </td>\n",
       "        </tr>\n",
       "    </tbody>\n",
       "</table>\n",
       "<p>... (137 rows omitted)</p>"
      ],
      "text/plain": [
       "POSITION | TEAM           | PLAYER average | SALARY average\n",
       "C        | Atlanta Hawks  |                | 7.58542\n",
       "PF       | Atlanta Hawks  |                | 11.0025\n",
       "PG       | Atlanta Hawks  |                | 4.8817\n",
       "SF       | Atlanta Hawks  |                | 3\n",
       "SG       | Atlanta Hawks  |                | 1.80969\n",
       "C        | Boston Celtics |                | 2.45046\n",
       "PF       | Boston Celtics |                | 3.08548\n",
       "PG       | Boston Celtics |                | 4.97465\n",
       "SF       | Boston Celtics |                | 4.41716\n",
       "SG       | Boston Celtics |                | 2.00755\n",
       "... (137 rows omitted)"
      ]
     },
     "execution_count": 64,
     "metadata": {},
     "output_type": "execute_result"
    }
   ],
   "source": [
    "# Group the 'nba' table by columns 'POSITION' and 'TEAM'; \n",
    "# take average of corresponding grouped `SALARY` entries;\n",
    "# sort by 'TEAM'\n",
    "nba.group(['POSITION','TEAM'], np.average).sort('TEAM')"
   ]
  },
  {
   "cell_type": "markdown",
   "metadata": {},
   "source": [
    "### Grouping by multiple columns: a summary\n",
    "\n",
    "The **group** method can also aggregate all rows that share the combination of values in multiple columns\n",
    "* First argument:       A list of which columns to group by\n",
    "* Second argument:      (Optional) How to combine values\n",
    "\n",
    "\n",
    "\n"
   ]
  },
  {
   "cell_type": "markdown",
   "metadata": {},
   "source": [
    "## Pivot Tables"
   ]
  },
  {
   "cell_type": "code",
   "execution_count": 65,
   "metadata": {},
   "outputs": [
    {
     "data": {
      "text/html": [
       "<table border=\"1\" class=\"dataframe\">\n",
       "    <thead>\n",
       "        <tr>\n",
       "            <th>POSITION</th> <th>Atlanta Hawks</th> <th>Boston Celtics</th> <th>Brooklyn Nets</th> <th>Charlotte Hornets</th> <th>Chicago Bulls</th> <th>Cleveland Cavaliers</th> <th>Dallas Mavericks</th> <th>Denver Nuggets</th> <th>Detroit Pistons</th> <th>Golden State Warriors</th> <th>Houston Rockets</th> <th>Indiana Pacers</th> <th>Los Angeles Clippers</th> <th>Los Angeles Lakers</th> <th>Memphis Grizzlies</th> <th>Miami Heat</th> <th>Milwaukee Bucks</th> <th>Minnesota Timberwolves</th> <th>New Orleans Pelicans</th> <th>New York Knicks</th> <th>Oklahoma City Thunder</th> <th>Orlando Magic</th> <th>Philadelphia 76ers</th> <th>Phoenix Suns</th> <th>Portland Trail Blazers</th> <th>Sacramento Kings</th> <th>San Antonio Spurs</th> <th>Toronto Raptors</th> <th>Utah Jazz</th> <th>Washington Wizards</th>\n",
       "        </tr>\n",
       "    </thead>\n",
       "    <tbody>\n",
       "        <tr>\n",
       "            <td>C       </td> <td>3            </td> <td>3             </td> <td>1            </td> <td>3                </td> <td>2            </td> <td>4                  </td> <td>2               </td> <td>4             </td> <td>3              </td> <td>3                    </td> <td>1              </td> <td>2             </td> <td>1                   </td> <td>2                 </td> <td>2                </td> <td>0         </td> <td>1              </td> <td>3                     </td> <td>3                   </td> <td>1              </td> <td>2                    </td> <td>1            </td> <td>2                 </td> <td>2           </td> <td>3                     </td> <td>3               </td> <td>3                </td> <td>3              </td> <td>3        </td> <td>3                 </td>\n",
       "        </tr>\n",
       "        <tr>\n",
       "            <td>PF      </td> <td>2            </td> <td>2             </td> <td>3            </td> <td>3                </td> <td>2            </td> <td>1                  </td> <td>2               </td> <td>2             </td> <td>0              </td> <td>3                    </td> <td>4              </td> <td>3             </td> <td>2                   </td> <td>4                 </td> <td>7                </td> <td>3         </td> <td>2              </td> <td>3                     </td> <td>3                   </td> <td>4              </td> <td>3                    </td> <td>5            </td> <td>4                 </td> <td>3           </td> <td>3                     </td> <td>0               </td> <td>2                </td> <td>4              </td> <td>3        </td> <td>3                 </td>\n",
       "        </tr>\n",
       "        <tr>\n",
       "            <td>PG      </td> <td>2            </td> <td>4             </td> <td>2            </td> <td>4                </td> <td>2            </td> <td>3                  </td> <td>4               </td> <td>2             </td> <td>1              </td> <td>2                    </td> <td>2              </td> <td>2             </td> <td>3                   </td> <td>1                 </td> <td>4                </td> <td>2         </td> <td>4              </td> <td>3                     </td> <td>4                   </td> <td>3              </td> <td>3                    </td> <td>4            </td> <td>1                 </td> <td>4           </td> <td>1                     </td> <td>2               </td> <td>3                </td> <td>5              </td> <td>5        </td> <td>3                 </td>\n",
       "        </tr>\n",
       "        <tr>\n",
       "            <td>SF      </td> <td>2            </td> <td>2             </td> <td>2            </td> <td>2                </td> <td>2            </td> <td>1                  </td> <td>1               </td> <td>4             </td> <td>4              </td> <td>4                    </td> <td>2              </td> <td>4             </td> <td>2                   </td> <td>3                 </td> <td>4                </td> <td>4         </td> <td>3              </td> <td>2                     </td> <td>3                   </td> <td>3              </td> <td>4                    </td> <td>1            </td> <td>3                 </td> <td>2           </td> <td>2                     </td> <td>3               </td> <td>3                </td> <td>3              </td> <td>3        </td> <td>4                 </td>\n",
       "        </tr>\n",
       "        <tr>\n",
       "            <td>SG      </td> <td>5            </td> <td>4             </td> <td>5            </td> <td>6                </td> <td>4            </td> <td>1                  </td> <td>2               </td> <td>2             </td> <td>2              </td> <td>2                    </td> <td>3              </td> <td>2             </td> <td>5                   </td> <td>1                 </td> <td>4                </td> <td>3         </td> <td>3              </td> <td>2                     </td> <td>3                   </td> <td>2              </td> <td>4                    </td> <td>3            </td> <td>3                 </td> <td>6           </td> <td>5                     </td> <td>3               </td> <td>2                </td> <td>2              </td> <td>3        </td> <td>4                 </td>\n",
       "        </tr>\n",
       "    </tbody>\n",
       "</table>"
      ],
      "text/plain": [
       "POSITION | Atlanta Hawks | Boston Celtics | Brooklyn Nets | Charlotte Hornets | Chicago Bulls | Cleveland Cavaliers | Dallas Mavericks | Denver Nuggets | Detroit Pistons | Golden State Warriors | Houston Rockets | Indiana Pacers | Los Angeles Clippers | Los Angeles Lakers | Memphis Grizzlies | Miami Heat | Milwaukee Bucks | Minnesota Timberwolves | New Orleans Pelicans | New York Knicks | Oklahoma City Thunder | Orlando Magic | Philadelphia 76ers | Phoenix Suns | Portland Trail Blazers | Sacramento Kings | San Antonio Spurs | Toronto Raptors | Utah Jazz | Washington Wizards\n",
       "C        | 3             | 3              | 1             | 3                 | 2             | 4                   | 2                | 4              | 3               | 3                     | 1               | 2              | 1                    | 2                  | 2                 | 0          | 1               | 3                      | 3                    | 1               | 2                     | 1             | 2                  | 2            | 3                      | 3                | 3                 | 3               | 3         | 3\n",
       "PF       | 2             | 2              | 3             | 3                 | 2             | 1                   | 2                | 2              | 0               | 3                     | 4               | 3              | 2                    | 4                  | 7                 | 3          | 2               | 3                      | 3                    | 4               | 3                     | 5             | 4                  | 3            | 3                      | 0                | 2                 | 4               | 3         | 3\n",
       "PG       | 2             | 4              | 2             | 4                 | 2             | 3                   | 4                | 2              | 1               | 2                     | 2               | 2              | 3                    | 1                  | 4                 | 2          | 4               | 3                      | 4                    | 3               | 3                     | 4             | 1                  | 4            | 1                      | 2                | 3                 | 5               | 5         | 3\n",
       "SF       | 2             | 2              | 2             | 2                 | 2             | 1                   | 1                | 4              | 4               | 4                     | 2               | 4              | 2                    | 3                  | 4                 | 4          | 3               | 2                      | 3                    | 3               | 4                     | 1             | 3                  | 2            | 2                      | 3                | 3                 | 3               | 3         | 4\n",
       "SG       | 5             | 4              | 5             | 6                 | 4             | 1                   | 2                | 2              | 2               | 2                     | 3               | 2              | 5                    | 1                  | 4                 | 3          | 3               | 2                      | 3                    | 2               | 4                     | 3             | 3                  | 6            | 5                      | 3                | 2                 | 2               | 3         | 4"
      ]
     },
     "execution_count": 65,
     "metadata": {},
     "output_type": "execute_result"
    }
   ],
   "source": [
    "# Create a pivot grid on the 'nba' table; use 'TEAM' and \n",
    "# 'POSITION' columns\n",
    "nba.pivot('TEAM','POSITION')"
   ]
  },
  {
   "cell_type": "code",
   "execution_count": 66,
   "metadata": {},
   "outputs": [
    {
     "data": {
      "text/html": [
       "<table border=\"1\" class=\"dataframe\">\n",
       "    <thead>\n",
       "        <tr>\n",
       "            <th>POSITION</th> <th>Atlanta Hawks</th> <th>Boston Celtics</th> <th>Brooklyn Nets</th> <th>Charlotte Hornets</th> <th>Chicago Bulls</th> <th>Cleveland Cavaliers</th> <th>Dallas Mavericks</th> <th>Denver Nuggets</th> <th>Detroit Pistons</th> <th>Golden State Warriors</th> <th>Houston Rockets</th> <th>Indiana Pacers</th> <th>Los Angeles Clippers</th> <th>Los Angeles Lakers</th> <th>Memphis Grizzlies</th> <th>Miami Heat</th> <th>Milwaukee Bucks</th> <th>Minnesota Timberwolves</th> <th>New Orleans Pelicans</th> <th>New York Knicks</th> <th>Oklahoma City Thunder</th> <th>Orlando Magic</th> <th>Philadelphia 76ers</th> <th>Phoenix Suns</th> <th>Portland Trail Blazers</th> <th>Sacramento Kings</th> <th>San Antonio Spurs</th> <th>Toronto Raptors</th> <th>Utah Jazz</th> <th>Washington Wizards</th>\n",
       "        </tr>\n",
       "    </thead>\n",
       "    <tbody>\n",
       "        <tr>\n",
       "            <td>C       </td> <td>12           </td> <td>2.61698       </td> <td>1.3629       </td> <td>13.5             </td> <td>13.4         </td> <td>14.2609            </td> <td>5.2             </td> <td>5.6135        </td> <td>6.5            </td> <td>13.8                 </td> <td>22.3594        </td> <td>4             </td> <td>1.1006              </td> <td>15.5922           </td> <td>19.688           </td> <td>0         </td> <td>2.10929        </td> <td>12.1                  </td> <td>9.21348             </td> <td>12.65          </td> <td>16.4075              </td> <td>11.25        </td> <td>4.62696           </td> <td>13          </td> <td>6.9808                </td> <td>15.852          </td> <td>7.5              </td> <td>4.66048        </td> <td>2.9      </td> <td>13                </td>\n",
       "        </tr>\n",
       "        <tr>\n",
       "            <td>PF      </td> <td>18.6717      </td> <td>5             </td> <td>11.236       </td> <td>7                </td> <td>5.54373      </td> <td>19.689             </td> <td>15.4937         </td> <td>11.236        </td> <td>0              </td> <td>14.2609              </td> <td>2.48953        </td> <td>4.05          </td> <td>18.9077             </td> <td>3.13224           </td> <td>9.63856          </td> <td>22.1927   </td> <td>5.15244        </td> <td>8.5                   </td> <td>8.5                 </td> <td>4.13172        </td> <td>12.25                </td> <td>8.19303      </td> <td>6.5               </td> <td>5.5         </td> <td>3.07588               </td> <td>0               </td> <td>19.689           </td> <td>6.26867        </td> <td>4.775    </td> <td>8                 </td>\n",
       "        </tr>\n",
       "        <tr>\n",
       "            <td>PG      </td> <td>8            </td> <td>7.73034       </td> <td>6.3          </td> <td>12               </td> <td>20.0931      </td> <td>16.4075            </td> <td>5.37897         </td> <td>4.345         </td> <td>13.913         </td> <td>11.3708              </td> <td>12.4045        </td> <td>7             </td> <td>21.4687             </td> <td>5.10312           </td> <td>9.58843          </td> <td>14.783    </td> <td>6.6            </td> <td>12.7                  </td> <td>10.5955             </td> <td>7.40281        </td> <td>16.7442              </td> <td>8.3445       </td> <td>2.14477           </td> <td>13.5        </td> <td>4.23629               </td> <td>9.5             </td> <td>13.4375          </td> <td>12             </td> <td>3.77772  </td> <td>15.852            </td>\n",
       "        </tr>\n",
       "        <tr>\n",
       "            <td>SF      </td> <td>4            </td> <td>6.79612       </td> <td>24.8949      </td> <td>6.3314           </td> <td>2.38044      </td> <td>22.9705            </td> <td>15.3615         </td> <td>14            </td> <td>2.84196        </td> <td>11.7105              </td> <td>8.19303        </td> <td>17.1201       </td> <td>3.376               </td> <td>25                </td> <td>9.45             </td> <td>10.1516   </td> <td>1.95396        </td> <td>2.05692               </td> <td>3.38202             </td> <td>22.875         </td> <td>20.1586              </td> <td>16           </td> <td>10.1059           </td> <td>5.5         </td> <td>8.04289               </td> <td>12.4031         </td> <td>16.4075          </td> <td>13.6           </td> <td>15.4096  </td> <td>5.6135            </td>\n",
       "        </tr>\n",
       "        <tr>\n",
       "            <td>SG      </td> <td>5.74648      </td> <td>3.42551       </td> <td>3.42551      </td> <td>13.1253          </td> <td>16.4075      </td> <td>8.98876            </td> <td>1.449           </td> <td>1.58448       </td> <td>6.27           </td> <td>15.501               </td> <td>15.7564        </td> <td>10.3          </td> <td>7.085               </td> <td>7                 </td> <td>5.15854          </td> <td>20        </td> <td>14.7           </td> <td>7.085                 </td> <td>15.514              </td> <td>8              </td> <td>5.13843              </td> <td>5.19252      </td> <td>2.86944           </td> <td>2.12784     </td> <td>6                     </td> <td>6.06061         </td> <td>10               </td> <td>10.05          </td> <td>9.46348  </td> <td>5.69467           </td>\n",
       "        </tr>\n",
       "    </tbody>\n",
       "</table>"
      ],
      "text/plain": [
       "POSITION | Atlanta Hawks | Boston Celtics | Brooklyn Nets | Charlotte Hornets | Chicago Bulls | Cleveland Cavaliers | Dallas Mavericks | Denver Nuggets | Detroit Pistons | Golden State Warriors | Houston Rockets | Indiana Pacers | Los Angeles Clippers | Los Angeles Lakers | Memphis Grizzlies | Miami Heat | Milwaukee Bucks | Minnesota Timberwolves | New Orleans Pelicans | New York Knicks | Oklahoma City Thunder | Orlando Magic | Philadelphia 76ers | Phoenix Suns | Portland Trail Blazers | Sacramento Kings | San Antonio Spurs | Toronto Raptors | Utah Jazz | Washington Wizards\n",
       "C        | 12            | 2.61698        | 1.3629        | 13.5              | 13.4          | 14.2609             | 5.2              | 5.6135         | 6.5             | 13.8                  | 22.3594         | 4              | 1.1006               | 15.5922            | 19.688            | 0          | 2.10929         | 12.1                   | 9.21348              | 12.65           | 16.4075               | 11.25         | 4.62696            | 13           | 6.9808                 | 15.852           | 7.5               | 4.66048         | 2.9       | 13\n",
       "PF       | 18.6717       | 5              | 11.236        | 7                 | 5.54373       | 19.689              | 15.4937          | 11.236         | 0               | 14.2609               | 2.48953         | 4.05           | 18.9077              | 3.13224            | 9.63856           | 22.1927    | 5.15244         | 8.5                    | 8.5                  | 4.13172         | 12.25                 | 8.19303       | 6.5                | 5.5          | 3.07588                | 0                | 19.689            | 6.26867         | 4.775     | 8\n",
       "PG       | 8             | 7.73034        | 6.3           | 12                | 20.0931       | 16.4075             | 5.37897          | 4.345          | 13.913          | 11.3708               | 12.4045         | 7              | 21.4687              | 5.10312            | 9.58843           | 14.783     | 6.6             | 12.7                   | 10.5955              | 7.40281         | 16.7442               | 8.3445        | 2.14477            | 13.5         | 4.23629                | 9.5              | 13.4375           | 12              | 3.77772   | 15.852\n",
       "SF       | 4             | 6.79612        | 24.8949       | 6.3314            | 2.38044       | 22.9705             | 15.3615          | 14             | 2.84196         | 11.7105               | 8.19303         | 17.1201        | 3.376                | 25                 | 9.45              | 10.1516    | 1.95396         | 2.05692                | 3.38202              | 22.875          | 20.1586               | 16            | 10.1059            | 5.5          | 8.04289                | 12.4031          | 16.4075           | 13.6            | 15.4096   | 5.6135\n",
       "SG       | 5.74648       | 3.42551        | 3.42551       | 13.1253           | 16.4075       | 8.98876             | 1.449            | 1.58448        | 6.27            | 15.501                | 15.7564         | 10.3           | 7.085                | 7                  | 5.15854           | 20         | 14.7            | 7.085                  | 15.514               | 8               | 5.13843               | 5.19252       | 2.86944            | 2.12784      | 6                      | 6.06061          | 10                | 10.05           | 9.46348   | 5.69467"
      ]
     },
     "execution_count": 66,
     "metadata": {},
     "output_type": "execute_result"
    }
   ],
   "source": [
    "# Create a pivot grid on the 'nba' table; use 'TEAM' and \n",
    "# 'POSITION' columns.  Find maximum of corresponding \n",
    "# salary values. \n",
    "nba.pivot('TEAM', 'POSITION', values='SALARY', collect=max)\n"
   ]
  },
  {
   "cell_type": "markdown",
   "metadata": {},
   "source": [
    "### Pivot\n",
    "* Cross-classifies according to two categorical variables\n",
    "* Produces a grid of counts or aggregated values\n",
    "* Two required arguments:\n",
    "    * First: variable that forms column labels of grid\n",
    "    * Second: variable that forms row labels of grid\n",
    "* Two optional arguments (include both or neither)\n",
    "    * values= < column_label_to_aggregate > \n",
    "    * collect=function_to_aggregate_with"
   ]
  },
  {
   "cell_type": "markdown",
   "metadata": {},
   "source": [
    "<font color='green'>  </font>"
   ]
  }
 ],
 "metadata": {
  "anaconda-cloud": {},
  "kernelspec": {
   "display_name": "Python 3",
   "language": "python",
   "name": "python3"
  },
  "language_info": {
   "codemirror_mode": {
    "name": "ipython",
    "version": 3
   },
   "file_extension": ".py",
   "mimetype": "text/x-python",
   "name": "python",
   "nbconvert_exporter": "python",
   "pygments_lexer": "ipython3",
   "version": "3.8.5"
  }
 },
 "nbformat": 4,
 "nbformat_minor": 1
}
