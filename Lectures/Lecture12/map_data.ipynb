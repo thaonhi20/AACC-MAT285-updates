{
 "cells": [
  {
   "cell_type": "code",
   "execution_count": 22,
   "metadata": {},
   "outputs": [],
   "source": [
    "from datascience import *\n",
    "%matplotlib inline\n",
    "\n",
    "import matplotlib.pyplot as plt\n",
    "plt.style.use('fivethirtyeight')\n",
    "import math\n",
    "from scipy import stats\n",
    "import numpy as np"
   ]
  },
  {
   "cell_type": "markdown",
   "metadata": {},
   "source": [
    "## Bicycle Data"
   ]
  },
  {
   "cell_type": "code",
   "execution_count": null,
   "metadata": {},
   "outputs": [],
   "source": [
    "commute= Table.read_table('DC_bike_data.csv')\n",
    "commute"
   ]
  },
  {
   "cell_type": "markdown",
   "metadata": {},
   "source": [
    "## What's the most popular station?"
   ]
  },
  {
   "cell_type": "code",
   "execution_count": null,
   "metadata": {},
   "outputs": [],
   "source": [
    "# Create table by grouping 'commute' by 'Start Station'\n",
    "# column; name this table 'starts'\n",
    "\n",
    "starts=commute.group('Start Station').sort('count', descending=True)\n",
    "starts"
   ]
  },
  {
   "cell_type": "code",
   "execution_count": null,
   "metadata": {},
   "outputs": [],
   "source": [
    "# Creat pivot table from 'commute' using 'Start Station', 'End Station'\n",
    "# Use np.average to aggregate 'seconds'\n",
    "\n",
    "commute.pivot('Start Station',\\\n",
    "              'End Station', values= 'seconds', collect = np.average)"
   ]
  },
  {
   "cell_type": "markdown",
   "metadata": {},
   "source": [
    "## Where are the most popular stations for bike rental in the MD/DC/VA area?"
   ]
  },
  {
   "cell_type": "code",
   "execution_count": null,
   "metadata": {},
   "outputs": [],
   "source": [
    "# Load table of stations and locations; save as \n",
    "# 'locations'\n",
    "\n",
    "locations= Table.read_table('DCbike_station_locations.csv')\n",
    "locations"
   ]
  },
  {
   "cell_type": "code",
   "execution_count": null,
   "metadata": {},
   "outputs": [],
   "source": []
  },
  {
   "cell_type": "code",
   "execution_count": null,
   "metadata": {},
   "outputs": [],
   "source": [
    "# Use 'Marker.map_table' to create map of all \n",
    "# bike station locations\n",
    "\n",
    "Marker.map_table(locations.select('lat', 'long'))"
   ]
  },
  {
   "cell_type": "code",
   "execution_count": null,
   "metadata": {},
   "outputs": [],
   "source": [
    "# Our Starts table:\n",
    "\n",
    "starts "
   ]
  },
  {
   "cell_type": "code",
   "execution_count": null,
   "metadata": {},
   "outputs": [],
   "source": [
    "# Use .join on 'location' and 'starts' to join these tables\n",
    "# along stations\n",
    "\n",
    "station_starts = locations.join('Station', starts, 'Start Station')\n",
    "station_starts"
   ]
  },
  {
   "cell_type": "code",
   "execution_count": null,
   "metadata": {},
   "outputs": [],
   "source": [
    "# Use Circle.map_table to make a new map that visualizes\n",
    "# useage of all stations \n",
    "\n",
    "starts_map_data = station_starts.select\\\n",
    "('lat', 'long', 'Station').with_columns(\n",
    "    'color', 'blue',\n",
    "    'area', station_starts.column('count') * .7\n",
    ")\n",
    "Circle.map_table(starts_map_data, color='green').show()"
   ]
  },
  {
   "cell_type": "markdown",
   "metadata": {},
   "source": [
    "<font color='green'> </font>"
   ]
  },
  {
   "cell_type": "markdown",
   "metadata": {},
   "source": [
    "<font color='green'> </font>"
   ]
  }
 ],
 "metadata": {
  "kernelspec": {
   "display_name": "Python 3",
   "language": "python",
   "name": "python3"
  },
  "language_info": {
   "codemirror_mode": {
    "name": "ipython",
    "version": 3
   },
   "file_extension": ".py",
   "mimetype": "text/x-python",
   "name": "python",
   "nbconvert_exporter": "python",
   "pygments_lexer": "ipython3",
   "version": "3.7.6"
  }
 },
 "nbformat": 4,
 "nbformat_minor": 2
}
