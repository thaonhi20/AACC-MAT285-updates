{
 "cells": [
  {
   "cell_type": "markdown",
   "metadata": {},
   "source": [
    "# Lecture 11 : Joins #"
   ]
  },
  {
   "cell_type": "code",
   "execution_count": null,
   "metadata": {},
   "outputs": [],
   "source": [
    "import warnings\n",
    "warnings.simplefilter('ignore', FutureWarning)\n",
    "from IPython.core.display import HTML\n",
    "HTML('''<link href='http://fonts.googleapis.com/css?family=Lora:400,700,400i,700i' rel='stylesheet'><link href='https://fonts.googleapis.com/css?family=Lato:300,400,700,300i,400i,700i' rel='stylesheet'><link href='https://fonts.googleapis.com/css?family=Inconsolata:400' rel='stylesheet'><link rel=\"stylesheet\" href=\"http://maxcdn.bootstrapcdn.com/font-awesome/4.3.0/css/font-awesome.min.css\"><style>h1, h2, h3, h4, h5 { font-family: 'Lato', sans-serif; } h5 { font-style: normal; } kbd { font-family: Lato, serif; } hr { border-width: 2px; border-color: #a9a9a9; } .cite { font-size: 85%; text-align: right; margin-top: 10px; } .note { font-family: Lora, serif; font-size: 10pt; font-weight: 400; margin-top: 0; margin-bottom: 0; } h5.prehead { font-family: Lato, serif; font-style: normal; font-size: 14pt; font-weight: 300; margin-bottom: 15px; margin-top: 30px; } h5.lesson { font-family: Lato, serif; font-weight: 400; font-size: 15pt; font-style: normal; margin-top: 0px; margin-bottom: 5px; } h1.lesson_title { font-family: Lato, serif; font-weight: 300; font-size: 32pt; line-height: 110%; color:#CD2305; margin-top: 0px; margin-bottom: 15px; } div.cell{ max-width: 1120px; margin-left: auto; margin-right: auto; } div.text_cell_render { font-family: Lora, serif; line-height: 160%; font-size: 13pt; } .rendered_html pre, .rendered_html code  { font-family: Inconsolata, monospace !important; font-size: 13pt; } div.CodeMirror, div.output_area pre, div.prompt { font-family: Inconsolata, monospace !important; font-size: 125%; } .rendered_html ul li { margin-top: 0.75em; margin-bottom: 0.75em; } .rendered_html ul li ul li { margin-top: 0.5em; margin-bottom: 0.5em; } .rred { color: #a00000; } </style> <script> MathJax.Hub.Config({ TeX: { extensions: [\"AMSmath.js\"] }, tex2jax: { inlineMath: [ ['$','$'], [\"\\\\(\",\"\\\\)\"] ], displayMath: [ ['$$','$$'], [\"\\\\[\",\"\\\\]\"] ] }, displayAlign: 'center', // Change this to 'center' to center equations. \"HTML-CSS\": { styles: {'.MathJax_Display': {\"margin\": \"0.75em 0\"}} } }); </script>''')"
   ]
  },
  {
   "cell_type": "markdown",
   "metadata": {},
   "source": [
    "Before we start, please make sure you've loaded the lecture notebook so you can work along.  \n",
    "\n"
   ]
  },
  {
   "cell_type": "markdown",
   "metadata": {},
   "source": [
    "We'll start by running the cell below to set up our notebook."
   ]
  },
  {
   "cell_type": "code",
   "execution_count": null,
   "metadata": {},
   "outputs": [],
   "source": [
    "from datascience import *\n",
    "import numpy as np\n",
    "\n",
    "%matplotlib inline\n",
    "import matplotlib.pyplot as plots\n",
    "plots.style.use('fivethirtyeight')"
   ]
  },
  {
   "cell_type": "markdown",
   "metadata": {},
   "source": [
    "<font color='green'> </font>"
   ]
  },
  {
   "cell_type": "markdown",
   "metadata": {},
   "source": [
    "## Lists"
   ]
  },
  {
   "cell_type": "code",
   "execution_count": null,
   "metadata": {},
   "outputs": [],
   "source": [
    "#Create a list with different data types\n",
    "\n",
    "simple_list =  ['hello', 7, 3.14, True]\n",
    "simple_list"
   ]
  },
  {
   "cell_type": "code",
   "execution_count": null,
   "metadata": {},
   "outputs": [],
   "source": [
    "# Make a nested list\n",
    "nested_list= [['a','b','c'], [1,2,3,4]]\n",
    "nested_list"
   ]
  },
  {
   "cell_type": "code",
   "execution_count": null,
   "metadata": {},
   "outputs": [],
   "source": [
    "# Build a table using a list containing column data \n",
    "\n",
    "Table().with_columns('Numbers', [1, 2, 3])"
   ]
  },
  {
   "cell_type": "code",
   "execution_count": null,
   "metadata": {},
   "outputs": [],
   "source": [
    "# Build a table using a list for column labels\n",
    "\n",
    "drinks = Table(['Drink', 'Cafe', 'Price'])\n",
    "drinks"
   ]
  },
  {
   "cell_type": "code",
   "execution_count": null,
   "metadata": {},
   "outputs": [],
   "source": [
    "#Add on to a table by adding rows, \n",
    "# using the `.with_rows` method\n",
    "\n",
    "drinks = drinks.with_rows([\n",
    "    ['Milk Tea', 'Kung Fu', 4.00],\n",
    "    ['Espresso', 'Starbucks',  1.95],\n",
    "    ['Latte',    'Starbucks',  2.95],\n",
    "    ['Espresso', \"WFM\",   3.65]\n",
    "]\n",
    ")\n",
    "drinks"
   ]
  },
  {
   "cell_type": "markdown",
   "metadata": {},
   "source": [
    "<font color='green'> </font>"
   ]
  },
  {
   "cell_type": "markdown",
   "metadata": {},
   "source": [
    "## Grouping by one column"
   ]
  },
  {
   "cell_type": "markdown",
   "metadata": {},
   "source": [
    "<font color='green'> </font>"
   ]
  },
  {
   "cell_type": "code",
   "execution_count": null,
   "metadata": {},
   "outputs": [],
   "source": [
    "# Load the file 'skyscrapers.csv' as a table; \n",
    "# use name 'skyscrapers'\n",
    "\n",
    "skyscrapers =  Table.read_table('skyscrapers.csv')\n",
    "skyscrapers"
   ]
  },
  {
   "cell_type": "code",
   "execution_count": null,
   "metadata": {},
   "outputs": [],
   "source": [
    "# Group 'skyscrapers' by 'city' column\n",
    "\n",
    "skyscrapers.group('city')"
   ]
  },
  {
   "cell_type": "code",
   "execution_count": null,
   "metadata": {},
   "outputs": [],
   "source": [
    "# Group 'skyscrapers' by 'city' column; \n",
    "# take average of all numerical rows.\n",
    "skyscrapers.group('city', np.average)\n"
   ]
  },
  {
   "cell_type": "code",
   "execution_count": null,
   "metadata": {},
   "outputs": [],
   "source": [
    "# Group 'skyscrapers' by 'city' column;  \n",
    "# select only numerical columns,\n",
    "# take average of all of those columns.\n",
    "\n",
    "\n",
    "skyscrapers.select('city', 'height', 'completed') \\\n",
    "                   .group('city', np.average)\n"
   ]
  },
  {
   "cell_type": "markdown",
   "metadata": {},
   "source": [
    "## Grouping by one column: A summary\n",
    "\n",
    "The **group** method aggregates all rows with the same value for a column into a single row in the resulting table.\n",
    "\n",
    "* First argument:      Which column to group by\n",
    "* Second argument:     (Optional) How to combine values.  For example, we can use...\n",
    "    * len - number of grouped values (this is the default)\n",
    "    * list - list of all grouped values\n",
    "    * sum - total of all grouped values"
   ]
  },
  {
   "cell_type": "markdown",
   "metadata": {},
   "source": [
    "## Cross-classification: grouping by two columns"
   ]
  },
  {
   "cell_type": "code",
   "execution_count": null,
   "metadata": {},
   "outputs": [],
   "source": [
    "# Group skyscrapers by two columns: 'material' and 'city'\n",
    "# sort by 'city'\n",
    "\n",
    "skyscrapers.group(['material', 'city']).sort('city').show(20)"
   ]
  },
  {
   "cell_type": "code",
   "execution_count": null,
   "metadata": {},
   "outputs": [],
   "source": [
    "# Use .pivot to group `skyscrapers` by columns `city`, `material`\n",
    "skyscrapers.pivot('city', 'material')"
   ]
  },
  {
   "cell_type": "code",
   "execution_count": null,
   "metadata": {},
   "outputs": [],
   "source": [
    "skyscrapers.pivot('city', 'material', 'height', np.average)"
   ]
  },
  {
   "cell_type": "markdown",
   "metadata": {},
   "source": [
    "## Challenge Question ##"
   ]
  },
  {
   "cell_type": "code",
   "execution_count": null,
   "metadata": {},
   "outputs": [],
   "source": [
    "# Let's begin by adding on a column to our \n",
    "# 'skyscrapers' table that gives the age of each\n",
    "# skyscraper.  Then we will drop the 'completed' \n",
    "# column.\n",
    "skyscrapers = (skyscrapers.with_column('age', 2021\\\n",
    "                        - skyscrapers.column('completed'))\n",
    "          .drop('completed'))\n",
    "skyscrapers.show(3)"
   ]
  },
  {
   "cell_type": "markdown",
   "metadata": {},
   "source": [
    "1. **For each city, what’s the tallest building for each material?**"
   ]
  },
  {
   "cell_type": "code",
   "execution_count": null,
   "metadata": {},
   "outputs": [],
   "source": [
    "# First method: use .group on 'city' \n",
    "# and 'material' columns...\n",
    "skyscrapers.select('city', 'material', 'height')\\\n",
    "  .group(['city', 'material'], max)\n"
   ]
  },
  {
   "cell_type": "code",
   "execution_count": null,
   "metadata": {},
   "outputs": [],
   "source": [
    "# Second method: use .pivot using 'material' \n",
    "# and 'city' columns...\n",
    "\n",
    "skyscrapers.select('material', 'city', 'height')\\\n",
    "   .pivot('material', 'city', 'height', max).show(15)\n"
   ]
  },
  {
   "cell_type": "markdown",
   "metadata": {},
   "source": [
    "2. For each city, what’s the height difference \n",
    "between the tallest steel building and the \n",
    "tallest concrete building?"
   ]
  },
  {
   "cell_type": "code",
   "execution_count": null,
   "metadata": {},
   "outputs": [],
   "source": [
    "# Define a new table, 'sky2', that selects only\n",
    "# columns 'city' 'material'. and 'height'.  Use\n",
    "# max function on this pivot table.\n",
    "\n",
    "sky2=skyscrapers.select('material', 'city', 'height')\\\n",
    ".pivot('material', 'city', 'height', max)\n"
   ]
  },
  {
   "cell_type": "code",
   "execution_count": null,
   "metadata": {},
   "outputs": [],
   "source": [
    "# Add a column to `sky2` that lists the \n",
    "# difference of `steel` and `concrete` \n",
    "# heights for each row; call this column 'diff'.\n",
    "\n",
    "sky2=sky2.with_column('diff', abs(sky2.column('steel')\\\n",
    "                                  - sky2.column('concrete')) )\n",
    "sky2.sort('diff', descending=True)"
   ]
  },
  {
   "cell_type": "markdown",
   "metadata": {},
   "source": [
    "<font color='green'> </font>"
   ]
  },
  {
   "cell_type": "markdown",
   "metadata": {},
   "source": [
    "### Take-home question: try it here!"
   ]
  },
  {
   "cell_type": "markdown",
   "metadata": {},
   "source": [
    "<font color='green'> </font>"
   ]
  },
  {
   "cell_type": "markdown",
   "metadata": {},
   "source": [
    "3. **Generate a table of the names of the oldest buildings for each material for each city.**\n"
   ]
  },
  {
   "cell_type": "markdown",
   "metadata": {},
   "source": [
    "<font color='green'> </font>"
   ]
  },
  {
   "cell_type": "markdown",
   "metadata": {},
   "source": [
    "## Joins ##"
   ]
  },
  {
   "cell_type": "code",
   "execution_count": null,
   "metadata": {},
   "outputs": [],
   "source": [
    "cones=Table.read_table('cones.csv')\n",
    "cones=cones.take(0,1,5).with_rows([['green tea', 'green', \\\n",
    "                       5.00], ['vanilla', 'white', 2.75]])\n",
    "cones"
   ]
  },
  {
   "cell_type": "code",
   "execution_count": null,
   "metadata": {},
   "outputs": [],
   "source": [
    "calories=Table().with_columns('Variety', \\\n",
    "                    make_array('strawberry', \n",
    "                    'chocolate', 'bubblegum', \\\n",
    "                    'green tea', 'vanilla'),\\\n",
    "                    'Calories', make_array(300, \\\n",
    "                     285, 350, 200, 270))\n",
    "calories"
   ]
  },
  {
   "cell_type": "markdown",
   "metadata": {},
   "source": [
    "<font color='green'>\n",
    "</font>"
   ]
  },
  {
   "cell_type": "code",
   "execution_count": null,
   "metadata": {},
   "outputs": [],
   "source": [
    "# Use .join method to merge the 'calories' \n",
    "# table with the 'cones' table\n",
    "cones.join('Flavor', calories, 'Variety')"
   ]
  },
  {
   "cell_type": "code",
   "execution_count": null,
   "metadata": {},
   "outputs": [],
   "source": [
    "# Display the 'drinks' table\n",
    "drinks"
   ]
  },
  {
   "cell_type": "markdown",
   "metadata": {},
   "source": [
    "<font color='green'> </font>"
   ]
  },
  {
   "cell_type": "code",
   "execution_count": null,
   "metadata": {},
   "outputs": [],
   "source": [
    "# Create table of coupons\n",
    "\n",
    "discounts = Table().with_columns(\n",
    "    'Coupon % off', make_array(10, 25, 5, 20),\n",
    "    'Location', make_array('Kung Fu', 'Starbucks', 'Starbucks', 'Kung Fu')\n",
    ")\n",
    "discounts"
   ]
  },
  {
   "cell_type": "markdown",
   "metadata": {},
   "source": [
    "<font color='green'> </font>"
   ]
  },
  {
   "cell_type": "code",
   "execution_count": null,
   "metadata": {
    "scrolled": true
   },
   "outputs": [],
   "source": [
    "# Combine 'drinks' table with 'discounts'\n",
    "# table using the '.join' method\n",
    "\n",
    "combined = drinks.join('Cafe', discounts, 'Location')\n",
    "combined"
   ]
  },
  {
   "cell_type": "code",
   "execution_count": null,
   "metadata": {},
   "outputs": [],
   "source": [
    "# Add a column to 'combined' which lists the discounted\n",
    "# price for any drink at either cafe.\n",
    "\n",
    "# First, create an array called 'discounted_frac'.  When \n",
    "# we multiply a price by a number in this column, we will\n",
    "# obtain the reduced price paid.\n",
    "\n",
    "discounted_frac = 1 - combined.column('Coupon % off') / 100\n",
    "\n",
    "# Next, add 'discounted_frac' onto the 'combined' table\n",
    "\n",
    "combined.with_column(\n",
    "    'Discounted Price', \n",
    "    combined.column('Price') * discounted_frac\n",
    ")"
   ]
  }
 ],
 "metadata": {
  "kernelspec": {
   "display_name": "Python 3",
   "language": "python",
   "name": "python3"
  },
  "language_info": {
   "codemirror_mode": {
    "name": "ipython",
    "version": 3
   },
   "file_extension": ".py",
   "mimetype": "text/x-python",
   "name": "python",
   "nbconvert_exporter": "python",
   "pygments_lexer": "ipython3",
   "version": "3.8.5"
  }
 },
 "nbformat": 4,
 "nbformat_minor": 2
}
